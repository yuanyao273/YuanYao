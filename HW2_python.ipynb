{
 "cells": [
  {
   "cell_type": "markdown",
   "metadata": {},
   "source": [
    "# Function fib"
   ]
  },
  {
   "cell_type": "code",
   "execution_count": 12,
   "metadata": {
    "collapsed": false
   },
   "outputs": [
    {
     "name": "stdout",
     "output_type": "stream",
     "text": [
      "1\n",
      "1\n",
      "2\n",
      "3\n",
      "5\n",
      "8\n",
      "13\n"
     ]
    }
   ],
   "source": [
    "\"\"\"\n",
    "The ideal of the function is divided by two parts. The first one is to get the nth fibciino numbers. In this function \n",
    "I uesed a method of recursion. Becasuse the Fibonacci number is the summation by the previous two Fibonacci numbers\n",
    "Fn=Fn-1+Fn-2, if the nth<3 then return 1, this will stop at the first and second one because n-2 is exactly the first one\n",
    "so the function will stop there which is the end of the recursion. Recursion is keeping calling the function itself inside \n",
    "the function until some conditions meet. In this case which we find the first fib number then it just look like the chain\n",
    "the Fn=Fn-1 + Fn-2 will add up to the nth fib number\n",
    "\"\"\"\n",
    "\n",
    "\n",
    "\n",
    "def fibnum (nth):      #here I define a function fibnum to use it to return the fib numbers \n",
    "    if nth<3:          #This function I uesed the method of recursion\n",
    "        return 1    #The function will break here if the nth is less than 3 \n",
    "    else:\n",
    "        return fibnum(nth-1) + fibnum(nth-2)  #The recursion will continue to get all the sum before this number \n",
    "#The ideal of recursion is the nth fabicino number is Fn=Fn-1+Fn-2 while Fn-1=Fn-2+Fn-3 \n",
    "#Basically this is the ideal that how we get the recursion of nth fib numbers    \n",
    "def fib (n):    #Then we define the function fib\n",
    "    order=1     #give the first fibonacci number\n",
    "    \n",
    "    if fibnum(order)>=n:   #give the condition that the parameter is smaller than the first fibonacci number\n",
    "        print('The number you entered is smaller or equal than the first Fibonacci Number.')\n",
    "    else:\n",
    "        while (fibnum(order)<n): #use the loop to show all the numbers that is smaller than parameter n\n",
    "            print (fibnum(order))\n",
    "            order=order+1\n",
    "            \n",
    "        \n",
    "\n",
    "        \n",
    "        \n",
    "fib (14)  #try to call all the fibonacci number that is smaller than 14 and the result is \"there\"\n",
    "    \n",
    "    \n",
    "    \n",
    "    \n",
    "\n",
    "\n",
    "\n",
    "        \n"
   ]
  },
  {
   "cell_type": "markdown",
   "metadata": {},
   "source": [
    "# Mymax()"
   ]
  },
  {
   "cell_type": "code",
   "execution_count": 1,
   "metadata": {
    "collapsed": false
   },
   "outputs": [
    {
     "data": {
      "text/plain": [
       "12"
      ]
     },
     "execution_count": 1,
     "metadata": {},
     "output_type": "execute_result"
    }
   ],
   "source": [
    "\"\"\"\n",
    "This function will return the biggest number between two numbers. I tried to did defense part in this function\n",
    "but I failed to identify the type of variables. So I made my defense part into a comment line\n",
    "The idea that return the biggest number is very simple, just use a if - else condition, becasue in two numbers just use \n",
    "one if-else condition could identify which one is bigger\n",
    "\n",
    "\"\"\"\n",
    "\n",
    "def mymax (n1,n2):\n",
    "    #if (type(n1)!=float or type (n1)!=int) and (type (n2)!=float or type (n2)!=int):\n",
    "        #print ('One of the input parameter is not numbers. Siging off!')\n",
    "    #else:\n",
    "        if n1<=n2:             #very simple if and else conditions \n",
    "            return n2\n",
    "        else:\n",
    "            return n1         #I'm trying to defend this function by identifying the type of input parameter\n",
    "                              #but seems fail \n",
    "        \n",
    "mymax(12,11)\n"
   ]
  },
  {
   "cell_type": "markdown",
   "metadata": {
    "collapsed": true
   },
   "source": [
    "# max_of_three()"
   ]
  },
  {
   "cell_type": "code",
   "execution_count": 5,
   "metadata": {
    "collapsed": false
   },
   "outputs": [
    {
     "data": {
      "text/plain": [
       "32"
      ]
     },
     "execution_count": 5,
     "metadata": {},
     "output_type": "execute_result"
    }
   ],
   "source": [
    "\"\"\"\n",
    "This is an more complicated case identify biggest number between three, so the idea is that find the max of first \n",
    "two numbers then find the max between the max of first two and the third one \n",
    "So nested if-else condition are required \n",
    "\"\"\"\n",
    "def max_of_three(n1,n2,n3):\n",
    "    if n1<=n2:               #use nested if and else condition to do this, first compare n1 and n2\n",
    "        if n2<=n3:           #then compare the bigger number between n1 and n2 to n3\n",
    "            return n3       #This if statement is if the n2 is bigger the compare n2 and n3\n",
    "        else:\n",
    "            return n2         #return the one is bigger \n",
    "    else:\n",
    "        if n1<=n3:            #This is the case that n1 is bigger and then compare n1 and n3\n",
    "            return n3\n",
    "        else:\n",
    "            return n1        #return the one is bigger \n",
    "    \n",
    "\n",
    "max_of_three(32,22,18)\n"
   ]
  },
  {
   "cell_type": "markdown",
   "metadata": {
    "collapsed": true
   },
   "source": [
    "# mylen()"
   ]
  },
  {
   "cell_type": "code",
   "execution_count": 15,
   "metadata": {
    "collapsed": false
   },
   "outputs": [
    {
     "data": {
      "text/plain": [
       "5"
      ]
     },
     "execution_count": 15,
     "metadata": {},
     "output_type": "execute_result"
    }
   ],
   "source": [
    "\"\"\"\n",
    "The idea of get the string length is very simple too, one for loop through every charcter of that string\n",
    "to begin with I assigin 0 to i, when the loop actually go through every single one characters in that string,\n",
    "i increase by 1, at the end of the loop, i should be exactly to the length of the loop\n",
    "\"\"\"\n",
    "\n",
    "def mylen(n):     #headstart for defining the function\n",
    "    i=0           #define i equals 0\n",
    "    for num in n:  #when every time loop in the list the i increase by 1\n",
    "        i=i+1\n",
    "    return i       #after the loop then return the i which is the length of the list\n",
    "\n",
    "mylen('jiang')"
   ]
  },
  {
   "cell_type": "markdown",
   "metadata": {},
   "source": [
    "# vowel()"
   ]
  },
  {
   "cell_type": "code",
   "execution_count": 6,
   "metadata": {
    "collapsed": false
   },
   "outputs": [
    {
     "data": {
      "text/plain": [
       "False"
      ]
     },
     "execution_count": 6,
     "metadata": {},
     "output_type": "execute_result"
    }
   ],
   "source": [
    "\"\"\"\n",
    "This is a function which identify the input whether is in the five cases\n",
    "five if statement could identify this \n",
    "\"\"\"\n",
    "\n",
    "\n",
    "def vowel( w ):    #define functions\n",
    "    if w == 'a':             #cases that the input is 'a' then return true\n",
    "        return True\n",
    "    if w== 'o':         #cases that the input is 'o' then return true \n",
    "        return True\n",
    "    if w== \"e\":        #cases that input is 'e' then return true \n",
    "        return True\n",
    "    if w== 'i':          #cases that input is 'i' then return true \n",
    "        return True\n",
    "    if w== 'u':        #cases that input is 'u' then return true\n",
    "        return True \n",
    "    else:              #other than vowel return false\n",
    "        return False \n",
    "\n",
    "    \n",
    "    \n",
    "vowel('d')\n",
    "    \n",
    "\n",
    "    \n",
    "    \n"
   ]
  },
  {
   "cell_type": "markdown",
   "metadata": {
    "collapsed": true
   },
   "source": [
    "# translate ()"
   ]
  },
  {
   "cell_type": "code",
   "execution_count": 2,
   "metadata": {
    "collapsed": false
   },
   "outputs": [
    {
     "name": "stdout",
     "output_type": "stream",
     "text": [
      "tothohisos\n"
     ]
    }
   ],
   "source": [
    "\"\"\"\n",
    "just borrow the function from above, the ideal is that make the string into a list because it is eassy to add 'o' between \n",
    "the characters, then go every single charcter in that string to check if that is vowel and blank space, if both not, then\n",
    "we put one 'o' before the charcter and one after it\n",
    "then we print the message by print the new string\n",
    "\"\"\"\n",
    "def vowel( w ):    #define functions\n",
    "    if w == 'a':             #cases that the input is 'a' then return true\n",
    "        return True\n",
    "    if w== 'o':         #cases that the input is 'o' then return true \n",
    "        return True\n",
    "    if w== \"e\":        #cases that input is 'e' then return true \n",
    "        return True\n",
    "    if w== 'i':          #cases that input is 'i' then return true \n",
    "        return True\n",
    "    if w== 'u':        #cases that input is 'u' then return true\n",
    "        return True \n",
    "    \n",
    "   \n",
    "    else:              #other than vowel return false\n",
    "        return False \n",
    "\n",
    "def translate(n):  #borrow the vowel from last part\n",
    "    new=list (n)       #put it into a new list \n",
    "    for w in n:         #loop throught every single character inthat string\n",
    "        if vowel(w)==False and vowel(w)!= ' ':  #check if the character is not a voewl\n",
    "            new[new.index(w)]=w + 'o' + w      #get the index of the new list and put an o between it\n",
    "    \n",
    "    return print(''.join(new))  #return the new string\n",
    "\n",
    "\n",
    "translate('this')\n",
    "            \n",
    "            \n",
    "      \n",
    "            \n",
    "        \n",
    "    \n",
    "    "
   ]
  },
  {
   "cell_type": "markdown",
   "metadata": {},
   "source": [
    "# sum() and multiply()"
   ]
  },
  {
   "cell_type": "code",
   "execution_count": 33,
   "metadata": {
    "collapsed": false
   },
   "outputs": [
    {
     "name": "stdout",
     "output_type": "stream",
     "text": [
      "10\n",
      "24\n"
     ]
    }
   ],
   "source": [
    "\"\"\"\n",
    "The ideal of the function is very easy, loop through every element, put a initial value 0 for summation and 1 for mutiplication\n",
    "and loop through every single value in the list and add one to itself or multiply itself\n",
    "\"\"\"\n",
    "\n",
    "def summation(n):\n",
    "    sum=0\n",
    "    for num in n:\n",
    "        sum=sum + num    #This is a very easy loop, give a sum=0 before then every number in that list\n",
    "                           #add them up \n",
    "    return sum\n",
    "\n",
    "def multiply(n):\n",
    "    product=1         #This is the same result as summation\n",
    "    for num in n:\n",
    "        product= product * num    #for every number in that list, multiply them each time \n",
    "    \n",
    "    return product\n",
    "\n",
    "print (summation([1,2,3,4]))\n",
    "print (multiply([1,2,3,4]))       #this is the test of the function\n",
    "    "
   ]
  },
  {
   "cell_type": "markdown",
   "metadata": {},
   "source": [
    "# reverse"
   ]
  },
  {
   "cell_type": "code",
   "execution_count": 45,
   "metadata": {
    "collapsed": false
   },
   "outputs": [
    {
     "data": {
      "text/plain": [
       "'gnitset ma i'"
      ]
     },
     "execution_count": 45,
     "metadata": {},
     "output_type": "execute_result"
    }
   ],
   "source": [
    "\"\"\"\n",
    "The ideal is loop through the string and start put charcters from back into new string\n",
    "\"\"\"\n",
    "\n",
    "def reverse(inputstring):    #define function\n",
    "    \n",
    "    revstring=''       #define a string to return which is the reverse\n",
    "    i=int(len(inputstring))  #first get the length of the string\n",
    "    \n",
    "    for j in range(0,i):    #loop through every single character in the inputstring\n",
    "        revstring=revstring+inputstring[-j-1]   #update the new string add the last one into the first one revstring\n",
    "    \n",
    "    return revstring\n",
    "    \n",
    "\n",
    "reverse('i am testing') #This is the test of the function"
   ]
  },
  {
   "cell_type": "markdown",
   "metadata": {},
   "source": [
    "# is_palindrome()\t"
   ]
  },
  {
   "cell_type": "code",
   "execution_count": 49,
   "metadata": {
    "collapsed": false
   },
   "outputs": [
    {
     "data": {
      "text/plain": [
       "True"
      ]
     },
     "execution_count": 49,
     "metadata": {},
     "output_type": "execute_result"
    }
   ],
   "source": [
    "\"\"\"\n",
    "The ideal for this function is to loop through the length of the string, check the whether the string is even\n",
    "\"\"\"\n",
    "\n",
    "def is_palindrome(n):   #define function\n",
    "    length=int(len(n))   #find the length of the function\n",
    "    for i in range(0,length-1):  #loop through all the string\n",
    "        if n[i]!=n[length-1-i]:  #to see if the character in front is equal in the back\n",
    "            return False        #once we find that is not equal return false\n",
    "        \n",
    "    return True   #if all equals then this is palindrome return true\n",
    "\n",
    "is_palindrome('radar')"
   ]
  },
  {
   "cell_type": "markdown",
   "metadata": {},
   "source": [
    "# is_a_member"
   ]
  },
  {
   "cell_type": "code",
   "execution_count": 54,
   "metadata": {
    "collapsed": false
   },
   "outputs": [
    {
     "data": {
      "text/plain": [
       "True"
      ]
     },
     "execution_count": 54,
     "metadata": {},
     "output_type": "execute_result"
    }
   ],
   "source": [
    "\"\"\"\n",
    "The ideal is that loop through everysingle element in the list, once find match then return true\n",
    "if cant find any matches then return false, that's why the false return should be out of the loop\n",
    "\"\"\"\n",
    "\n",
    "def is_a_member(x,listmember):  #This is another very eassy loop\n",
    "    for n in listmember:    #just loop throgh every single element in the list\n",
    "        if x==n:\n",
    "            return True   #if can find any matches then return true\n",
    "    \n",
    "    return False  # if cant find any then return false\n",
    "\n",
    "is_a_member('h','helloworld')  #this is the test of the function "
   ]
  },
  {
   "cell_type": "markdown",
   "metadata": {},
   "source": [
    "# overlapping()\t"
   ]
  },
  {
   "cell_type": "code",
   "execution_count": 57,
   "metadata": {
    "collapsed": false
   },
   "outputs": [
    {
     "data": {
      "text/plain": [
       "False"
      ]
     },
     "execution_count": 57,
     "metadata": {},
     "output_type": "execute_result"
    }
   ],
   "source": [
    "\"\"\"\n",
    "the ideal of this is same as abovee but have to use the nested loop, check each single element of first list, and use \n",
    "the one in the first list to match up the secon list(loopthrough), once found much return true immediately, if not\n",
    "return false, the false return should be out of the nested loop\n",
    "\"\"\"\n",
    "\n",
    "def overlapping(n1,n2):\n",
    "    for i in n1:            #another very easy loop \n",
    "        for j in n2:           #I used two nested loop and the first loop will take every single value i in list n1\n",
    "                          #second loop will loop through every single element in n2\n",
    "            if i==j:   #compare i in n1 to j in n2\n",
    "                return True    #if any matches found then return true\n",
    "        \n",
    "        \n",
    "    return False  #if cant find any return false \n",
    "\n",
    "overlapping([3,3,4,5,6,33],[0,123,545,32])  #test "
   ]
  },
  {
   "cell_type": "markdown",
   "metadata": {},
   "source": [
    "# generate_n_characters()"
   ]
  },
  {
   "cell_type": "code",
   "execution_count": 1,
   "metadata": {
    "collapsed": false
   },
   "outputs": [
    {
     "data": {
      "text/plain": [
       "'yyyyyyyyyyyy'"
      ]
     },
     "execution_count": 1,
     "metadata": {},
     "output_type": "execute_result"
    }
   ],
   "source": [
    "\"\"\"\n",
    "In this part, i Used defense part because once the input is not as described in the homework, the system will return false\n",
    "The ideal is same, loop through the number you want to dublicate and in that loop, add the characters into the new string\n",
    "\n",
    "\"\"\"\n",
    "\n",
    "def generate_n_characters(x,c):\n",
    "    if type(x)!=int:\n",
    "        print ('The number you want to dublicate is not valid, sigining off') #This is the defend part\n",
    "        return False   #incase the number dubllicate is not integer\n",
    "    if int(len(c))!=1:\n",
    "        print('The character is not single, siging off')  #incase the character is not single \n",
    "        return False\n",
    "    \n",
    "    \n",
    "    newstring=''  #get a new string\n",
    "    for k in range(0,x):\n",
    "        newstring=newstring+c  #number of times loop in the number times want to dublicate then add the same character\n",
    "        \n",
    "    return newstring  #return new string\n",
    "\n",
    "    \n",
    "generate_n_characters(12,'y')"
   ]
  },
  {
   "cell_type": "code",
   "execution_count": null,
   "metadata": {
    "collapsed": true
   },
   "outputs": [],
   "source": []
  }
 ],
 "metadata": {
  "kernelspec": {
   "display_name": "Python 3",
   "language": "python",
   "name": "python3"
  },
  "language_info": {
   "codemirror_mode": {
    "name": "ipython",
    "version": 3
   },
   "file_extension": ".py",
   "mimetype": "text/x-python",
   "name": "python",
   "nbconvert_exporter": "python",
   "pygments_lexer": "ipython3",
   "version": "3.4.3"
  }
 },
 "nbformat": 4,
 "nbformat_minor": 0
}

{
"cells": [
  {
   "cell_type": "markdown",
   "metadata": {},
   "source": [
    "# Function fib"
   ]
}, {
   "cell_type": "code",
   "execution_count": 12,
   "metadata": {
    "collapsed": false
   },
   "outputs": [
    {
     "name": "stdout",
     "output_type": "stream",
     "text": [
      "1\n",
      "1\n",
      "2\n",
      "3\n",
      "5\n",
      "8\n",
      "13\n"
] }
   ],
   "source": [
    "def fibnum (nth):
to return the fib numbers \n",
#here I define a function fibnum to use it
    "    if nth<3:          #This function I uesed the method of
recursion\n",
    "        return 1    #The function will break here if the nth is
less than 3 \n",
" else:\n",
    "        return fibnum(nth-1) + fibnum(nth-2)  #The recursion will
continue to get all the sum before this number \n",
    "#The ideal of recursion is the nth fabicino number is
Fn=Fn-1+Fn-2 while Fn-1=Fn-2+Fn-3 \n",
    "#Basically this is the ideal that how we get the recursion of nth
fib numbers    \n",
    "def fib (n):    #Then we define the function fib\n",
    "    order=1     #give the first fibonacci number\n",
    "    \n",
    "    if fibnum(order)>=n:   #give the condition that the parameter
is smaller than the first fibonacci number\n",
    "        print('The number you entered is smaller or equal than
the first Fibonacci Number.')\n",
    "    else:\n",
    "        while (fibnum(order)<n): #use the loop to show all the
numbers that is smaller than parameter n\n",
    print (fibnum(order))\n",
    order=order+1\n",
    \n",
\n",
\n",
"
"
"
" "\n", "
"
than 14 and the result is \"there\"\n",
    "    \n",
    "    \n",
    "    \n",
    "    \n",
    "\n",
    "\n",
    "\n",
" \n" ]
“AW: output doesn’t include 0. Top code ok. Write function header
comments (explaining what the function does, what the input parameters
are, and what is returned)”
}, {
   "cell_type": "markdown",
   "metadata": {},
   "source": [
"# Mymax()" ]
}, {
   "cell_type": "code",
   "execution_count": 25,
   "metadata": {
    "collapsed": false
   },
   "outputs": [
    {
     "data": {
      "text/plain": [
"12" ]
     },
     "execution_count": 25,
     "metadata": {},
     "output_type": "execute_result"
}
         \n",
"fib (14)  #try to call all the fibonacci number that is smaller
   ],
   "source": [
    "def mymax (n1,n2):\n",
“AW: write function header comments (explaining what the function
does, what the input parameters are, and what is returned)”
    "    #if (type(n1)!=float or type (n1)!=int) and (type (n2)!=float
or type (n2)!=int):\n",
    "        #print ('One of the input parameter is not numbers.
Siging off!')\n",
" #else:\n",
    "        if n1<=n2:
conditions \n",
#very simple if and else
" " "
    return n2\n",
else:\n",
                 return n1
by identifying the type of input parameter\n",
"                              #but seems fail \n",
"        \n",
"mymax(12,11)\n"
] },
{
 "cell_type": "markdown",
 "metadata": {
  "collapsed": true
 },
 "source": [
  "# max_of_three()"
] },
{
 "cell_type": "code",
 "execution_count": 5,
 "metadata": {
  "collapsed": false
 },
 "outputs": [
  {
   "data": {
    "text/plain": [
"32" ]
   },
   "execution_count": 5,
   "metadata": {},
   "output_type": "execute_result"
} ],
 "source": [
  "def max_of_three(n1,n2,n3):\n",
#I'm trying to defend this function
“AW: write function header comments (explaining what the function
does, what the input parameters are, and what is returned)”
    "    if n1<=n2:               #use nested if and else condition to
do this, first compare n1 and n2\n",
    "        if n2<=n3:
between n1 and n2 to n3\n",
    "            return n3
bigger the compare n2 and n3\n",
    "        else:\n",
    "            return n2
    "    else:\n",
    "        if n1<=n3:
and then compare n1 and n3\n",
 #then compare the bigger number
#This if statement is if the n2 is
  #return the one is bigger \n",
  #This is the case that n1 is bigger
 #return the one is bigger \n",
  "
  "
  "
  "    \n",
  "\n",
  "max_of_three(32,22,18)"
] },
{
 "cell_type": "markdown",
 "metadata": {
  "collapsed": true
 },
 "source": [
  "# mylen()"
] },
{
 "cell_type": "code",
 "execution_count": 15,
 "metadata": {
  "collapsed": false
 },
 "outputs": [
  {
   "data": {
    "text/plain": [
"5" ]
    return n3\n",
else:\n",
return n1
  },
  "execution_count": 15,
  "metadata": {},
  "output_type": "execute_result"
} ],
"source": [
 "def mylen(n):     #headstart for defining the function\n",
“AW: write function header comments (explaining what the function
does, what the input parameters are, and what is returned)”
    "    i=0           #define i equals 0\n",
    "    for num in n:  #when every time loop in the list the i
increase by 1\n",
" i=i+1\n",
    "    return i       #after the loop then return the i which is the
length of the list\n",
"\n",
    "mylen('jiang')"
   ]
}, {
   "cell_type": "markdown",
   "metadata": {},
   "source": [
"# vowel()" ]
}, {
   "cell_type": "code",
   "execution_count": 6,
   "metadata": {
    "collapsed": false
   },
   "outputs": [
    {
     "data": {
      "text/plain": [
"False" ]
     },
     "execution_count": 6,
     "metadata": {},
     "output_type": "execute_result"
} ],
   "source": [
    "def vowel( w ):    #define functions\n",
“AW: write function header comments (explaining what the function
does, what the input parameters are, and what is returned)”
    "    if w == 'a':
return true\n",
     #cases that the input is 'a' then
#cases that the input is 'o' then return
 #cases that input is 'e' then return
"
    "
true \n",
    "
    "
true \n",
    "
    return True\n",
if w== 'o':
    return True\n",
if w== \"e\":
    return True\n",
" true \n", "
"
if w== 'i':          #cases that input is 'i' then return
    return True\n",
if w== 'u':        #cases that input is 'u' then return true
\n",
    "    else:              #other than vowel return false\n",
"
return True \n",
return False \n",
"
"\n",
"    \n",
"    \n",
"vowel('d')\n",
"    \n",
"\n",
"    \n",
"    \n"
   ]
“AW: Should the upper case vowels be considered?”
}, {
   "cell_type": "markdown",
   "metadata": {
    "collapsed": true
   },
   "source": [
    "# translate ()"
] },
  {
   "cell_type": "code",
   "execution_count": 22,
   "metadata": {
    "collapsed": false
   },
   "outputs": [
    {
     "name": "stdout",
     "output_type": "stream",
     "text": [
      "tothohisos o isos o fofunon\n"
     ]
} ],
"source": [
 "def vowel( w ):
 "    if w == 'a':
#define functions\n",
          #cases that the input is 'a' then
return true\n",
    "        return True\n",
    "    if w== 'o':         #cases that the input is 'o' then return
true \n",
"
    "
true \n",
    "
    "
true \n",
    "
    "
             return True\n",
         if w== \"e\":
             return True\n",
         if w== 'i':
    "
    "    \n",
    "   \n",
    "    else:              #other than vowel return false\n",
    "        return False \n",
    "\n",
    "def translate(n):  #borrow the vowel from last part\n",
    "    new=list (n)       #put it into a new list \n",
    "    for w in n:         #loop throught every single character
inthat string\n",
    "        if vowel(w)==False and vowel(w)!= ' ':  #check if the
character is not a voewl\n",
    "            new[new.index(w)]=w + 'o' + w      #get the index of
the new list and put an o between it\n",
    "    \n",
    "    return print(''.join(new))  #return the new string\n",
    "\n",
    "\n",
    "translate('this is fun')\n",
\n",
\n", \n",
   ]
“AW: output should look like 'tothohisos isos fofunon’. Write function
header comments (explaining what the function does, what the input
parameters are, and what is returned) Should upper case vowels be
considered?“
}, {
   "cell_type": "markdown",
   "metadata": {},
   "source": [
    "# sum() and multiply()"
   ]
}, {
   "cell_type": "code",
\n",
               #cases that input is 'u' then return true
return True \n",
"
"
"
"
"
" \n", ""
    return True\n",
if w== 'u':
\n", \n",
#cases that input is 'e' then return
#cases that input is 'i' then return
   "execution_count": 33,
   "metadata": {
    "collapsed": false
   },
   "outputs": [
    {
     "name": "stdout",
     "output_type": "stream",
     "text": [
"10\n",
"24\n" ]
} ],
   "source": [
    "def summation(n):\n",
“AW: write function header comments (explaining what the function
does, what the input parameters are, and what is returned)”
    "    sum=0\n",
    "    for num in n:\n",
    "        sum=sum + num    #This is a very easy loop, give a sum=0
before then every number in that list\n",
    "                           #add them up \n",
    "    return sum\n",
    "\n",
    "def multiply(n):\n",
“AW: write function header comments (explaining what the function
does, what the input parameters are, and what is returned)”
" " "
    "    \n",
    "    return product\n",
    "\n",
    "print (summation([1,2,3,4]))\n",
    "print (multiply([1,2,3,4]))
function\n", ""
] },
  {
   "cell_type": "markdown",
   "metadata": {},
   "source": [
"# reverse" ]
}, {
   "cell_type": "code",
product=1         #This is the same result as summation\n",
for num in n:\n",
             product= product * num
multiply them each time \n",
#for every number in that list,
#this is the test of the
   "execution_count": 45,
   "metadata": {
    "collapsed": false
   },
   "outputs": [
    {
     "data": {
      "text/plain": [
       "'gnitset ma i'"
      ]
     },
     "execution_count": 45,
     "metadata": {},
     "output_type": "execute_result"
} ],
   "source": [
    "def reverse(inputstring):    #define function\n",
“AW: write function header comments (explaining what the function
does, what the input parameters are, and what is returned)”
" \n",
    "    revstring=''       #define a string to return which is the
reverse\n",
    "    i=int(len(inputstring))  #first get the length of the string
\n",
" \n",
    "    for j in range(0,i):    #loop through every single character
in the inputstring\n",
    "        revstring=revstring+inputstring[-j-1]   #update the new
string add the last one into the first one revstring\n",
    "    \n",
    "    return revstring\n",
    "    \n",
    "\n",
    "reverse('i am testing') #This is the test of the function"
] },
  {
   "cell_type": "markdown",
   "metadata": {},
   "source": [
    "# is_palindrome()\t"
   ]
}, {
   "cell_type": "code",
   "execution_count": 49,
   "metadata": {
    "collapsed": false
   },
   "outputs": [
    {
     "data": {
      "text/plain": [
"True" ]
     },
     "execution_count": 49,
     "metadata": {},
     "output_type": "execute_result"
} ],
   "source": [
    "def is_palindrome(n):   #define function\n",
“AW: write function header comments (explaining what the function
does, what the input parameters are, and what is returned)”
" " "
    "            return False        #once we find that is not equal
return false\n",
" \n",
    "    return True   #if all equals then this is palindrome return
true\n",
"\n",
    "is_palindrome('radar')"
   ]
}, {
   "cell_type": "markdown",
   "metadata": {},
   "source": [
    "# is_a_member"
   ]
}, {
   "cell_type": "code",
   "execution_count": 54,
   "metadata": {
    "collapsed": false
   },
   "outputs": [
    {
     "data": {
      "text/plain": [
"True" ]
     },
     "execution_count": 54,
length=int(len(n))   #find the length of the function\n",
for i in range(0,length-1):  #loop through all the string\n",
             if n[i]!=n[length-1-i]:  #to see if the character in
front is equal in the back\n",
     "metadata": {},
     "output_type": "execute_result"
    }
   ],
   "source": [
    "def is_a_member(x,listmember):  #This is another very eassy loop
\n",
“AW: write function header comments (explaining what the function
does, what the input parameters are, and what is returned)”
    "    for n in listmember:
element in the list\n",
    "        if x==n:\n",
    "            return True
true\n",
  #just loop throgh every single
#if can find any matches then return
    "    \n",
    "    return False  # if cant find any then return false\n",
    "\n",
    "is_a_member('h','helloworld')  #this is the test of the function
"
]
}, {
   "cell_type": "markdown",
   "metadata": {},
   "source": [
    "# overlapping()\t"
   ]
}, {
   "cell_type": "code",
   "execution_count": 57,
   "metadata": {
    "collapsed": false
   },
   "outputs": [
    {
     "data": {
      "text/plain": [
"False" ]
     },
     "execution_count": 57,
     "metadata": {},
     "output_type": "execute_result"
} ],
   "source": [
    "def overlapping(n1,n2):\n",
    "    for i in n1:            #another very easy loop \n",
“AW: write function header comments (explaining what the function
does, what the input parameters are, and what is returned)”
    "        for j in n2:           #I used two nested loop and the
first loop will take every single value i in list n1\n",
    "                          #second loop will loop through every
single element in n2\n",
"
" true\n",
if i==j:   #compare i in n1 to j in n2\n",
    return True    #if any matches found then return
\n",
             \n",
         return False  #if cant find any return false \n",
  {
   "cell_type": "markdown",
   "metadata": {},
   "source": [
    "# generate_n_characters()"
   ]
}, {
   "cell_type": "code",
   "execution_count": 71,
   "metadata": {
    "collapsed": false
   },
   "outputs": [
    {
     "data": {
      "text/plain": [
       "'yyyyyyyyyyyy'"
      ]
     },
     "execution_count": 71,
     "metadata": {},
     "output_type": "execute_result"
} ],
   "source": [
    "def generate_n_characters(x,c):\n",
“AW: write function header comments (explaining what the function
does, what the input parameters are, and what is returned)”
    "    if type(x)!=int:\n",
    "        print ('The number you want to dublicate is not valid,
sigining off') #This is the defend part\n",
    "        return False   #incase the number dubllicate is not
integer\n",
    "    if int(len(c))!=1:\n",
] },
"
"
"
"\n",
"overlapping([3,3,4,5,6,33],[0,123,545,32])  #test "
    "        print('The character is not single, siging off')  #incase
the character is not single \n",
    "        return False\n",
    "    \n",
    "    \n",
    "    newstring=''  #get a new string\n",
    "    for k in range(0,x):\n",
    "        newstring=newstring+c  #number of times loop in the
number times want to dublicate then add the same character\n",
" \n",
    "    return newstring  #return new string\n",
    "\n",
    "    \n",
    "generate_n_characters(12,'y')"
   ]
“AW: great comments throughout assignment! Thank you for including the
function title for each problem. Every function should have doc header
comments using triple quotes so the function is supported by the
help() function.”
}, {
   "cell_type": "code",
   "execution_count": null,
   "metadata": {
    "collapsed": true
   },
   "outputs": [],
   "source": []
  }
 ],
 "metadata": {
  "kernelspec": {
   "display_name": "Python 3",
   "language": "python",
   "name": "python3"
  },
  "language_info": {
   "codemirror_mode": {
    "name": "ipython",
    "version": 3
   },
   "file_extension": ".py",
   "mimetype": "text/x-python",
   "name": "python",
   "nbconvert_exporter": "python",
   "pygments_lexer": "ipython3",
   "version": "3.4.3"
} },
 "nbformat": 4,
"nbformat_minor": 0
}
