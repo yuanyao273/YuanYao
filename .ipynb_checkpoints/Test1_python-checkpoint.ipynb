{
 "cells": [
  {
   "cell_type": "markdown",
   "metadata": {},
   "source": [
    "# Test Python Number 1"
   ]
  },
  {
   "cell_type": "code",
   "execution_count": 13,
   "metadata": {
    "collapsed": false
   },
   "outputs": [],
   "source": [
    "\"\"\"\"\n",
    "Let\tcoords be\ta\tvector\tof\tx,y\tpairs\tthat\tdescribe\tthe\tvertices\tof\ta\tpolygon\t\n",
    "given\tin\torder.\tFor\texample,\tthe\tvector\tof\tx,y\tpairs\tbelow\tforms\ta\tsquare.\n",
    "In this box I will define a class called class first\n",
    "and then I will set a class function to add each pair coordinate in this coords\n",
    "because  what I did here is basically add two vectors one is for x and one is for y\n",
    "and then add each point to the vector and then to call each point to the coords\n",
    "and then define the two functions to compute the area and perimeters\n",
    "\"\"\"\n",
    "class coords:   #define the class name \n",
    "    def __init__(self):  #define some variables inside the class\n",
    "        self.x=[]    #create a vecotor x used to store x axis  coordinate\n",
    "        self.y=[]    #create a vector y used to store y axis coordinate\n",
    "    \n",
    "    def addpoint(self,x,y):  #define the class function\n",
    "        self.x.append(x)    #to set value in the x vector\n",
    "        self.y.append(y)   # to set value in the y vector\n",
    "            \n",
    "\n"
   ]
  },
  {
   "cell_type": "code",
   "execution_count": 58,
   "metadata": {
    "collapsed": false
   },
   "outputs": [],
   "source": [
    "\"\"\"\"\n",
    "In thi section, basically what I did is to create some variables such as a tirangle\n",
    "and a square and a rectangle and set some point in these coords\n",
    "\"\"\"\n",
    "triangle=coords()  #define triangle as coords\n",
    "triangle.addpoint(0,0)  #here ask the user to input the coordinate in a clockwise order or counter clock wise order\n",
    "triangle.addpoint(2,0)  #input three coordinates of triangle\n",
    "triangle.addpoint(1,2)\n",
    "\n",
    "square=coords()   #input a coordinate for a square \n",
    "square.addpoint(0,0)\n",
    "square.addpoint(2,0)\n",
    "square.addpoint(2,2)\n",
    "square.addpoint(0,2)\n",
    "\n",
    "\n",
    "\n",
    "rectangle=coords() #Here I define a rectangle to see if my function works for any scenarial\n",
    "rectangle.addpoint(0,0)\n",
    "rectangle.addpoint(3,0)\n",
    "rectangle.addpoint(3,4)\n",
    "rectangle.addpoint(0,4)\n",
    "\n",
    "\n"
   ]
  },
  {
   "cell_type": "code",
   "execution_count": 59,
   "metadata": {
    "collapsed": false
   },
   "outputs": [],
   "source": [
    "\"\"\"\n",
    "This is the function will return the perimeter\n",
    "use formula  distance=squareoot of (x1-x2)^2 + (y1-y2)^2\n",
    "\"\"\"\n",
    "import math   #inport math because we will use it later in the function\n",
    "def polygperim(n):  #define the function\n",
    "    \n",
    "    for i in range(0,len(n.x)):  #loop through everyelemnt in the input x vector\n",
    "        \n",
    "        if n.x.count(n.x[i])>=3:  #in order to check whether this is a polygon becuase if three corrdinate \n",
    "              #or more of the the x coordinate or y coordinate equals, this means this is not the polygon\n",
    "            print('The coord you enter is not a polygon')\n",
    "            return False\n",
    "            break  #will return false if it is not the polygon\n",
    "        \n",
    "        if n.y.count(n.y[i])>=3:\n",
    "            print('The coord you enter is not a polygon')\n",
    "            return False\n",
    "            break   #same method to check y coordinate\n",
    "    perisum=0   #set the sum equals to zero      \n",
    "    for k in range(0,len(n.x)): #loop through every element in x vec and y vec\n",
    "        \n",
    "        perisum=math.sqrt((n.x[k]-n.x[k-1])**2+(n.y[k]-n.y[k-1])**2)+perisum #the current premetier\n",
    "        #equals squareoot of (x1-x2)^2 + (y1-y2)^2\n",
    "    \n",
    "    return perisum\n",
    "        \n",
    "       \n",
    "       "
   ]
  },
  {
   "cell_type": "code",
   "execution_count": 60,
   "metadata": {
    "collapsed": false
   },
   "outputs": [],
   "source": [
    "\"\"\"\n",
    "This is the function will return the area, calulate by Green Formula\n",
    "\"\"\"\n",
    "import math\n",
    "def polygarea(m):\n",
    "    for i in range(0,len(m.x)):\n",
    "        \n",
    "        if m.x.count(m.x[i])>=3:\n",
    "            print('The coord you enter is not a polygon')\n",
    "            return False\n",
    "            break\n",
    "        \n",
    "        if m.y.count(m.y[i])>=3:\n",
    "            print('The coord you enter is not a polygon')\n",
    "            return False\n",
    "            break   #same principle to check the polygon too\n",
    "    area=0\n",
    "    for k in range(0,len(m.x)):#loop through every element in the two vectors\n",
    "       \n",
    "        area=area+math.fabs(m.x[k-1]*m.y[k]-m.x[k]*m.y[k-1]) #applied the functions we had in the test\n",
    "    #I found out a very large default shortback of this formula\n",
    "    #One of the corner point of polygon must be in the original point then this function applies\n",
    "    #I tried many times to translate the sqare to (1,1) (3,1) (3,3) (1,3)\n",
    "    #To test the function the result should be divided by 4 which is not 2 instead\n",
    "    Area=area/2\n",
    "    \n",
    "    return Area #return area\n",
    "    "
   ]
  },
  {
   "cell_type": "code",
   "execution_count": 61,
   "metadata": {
    "collapsed": false
   },
   "outputs": [
    {
     "name": "stdout",
     "output_type": "stream",
     "text": [
      "6.47213595499958\n",
      "2.0\n",
      "8.0\n",
      "4.0\n",
      "14.0\n",
      "12.0\n"
     ]
    }
   ],
   "source": [
    "\"\"\"\n",
    "check the result\n",
    "\"\"\"\n",
    "print(polygperim(triangle))  \n",
    "print(polygarea(triangle))\n",
    "print(polygperim(square))\n",
    "print(polygarea(square))\n",
    "print(polygperim(rectangle))\n",
    "print(polygarea(rectangle))\n"
   ]
  },
  {
   "cell_type": "code",
   "execution_count": null,
   "metadata": {
    "collapsed": true
   },
   "outputs": [],
   "source": []
  },
  {
   "cell_type": "code",
   "execution_count": null,
   "metadata": {
    "collapsed": true
   },
   "outputs": [],
   "source": []
  }
 ],
 "metadata": {
  "kernelspec": {
   "display_name": "Python 3",
   "language": "python",
   "name": "python3"
  },
  "language_info": {
   "codemirror_mode": {
    "name": "ipython",
    "version": 3
   },
   "file_extension": ".py",
   "mimetype": "text/x-python",
   "name": "python",
   "nbconvert_exporter": "python",
   "pygments_lexer": "ipython3",
   "version": "3.4.3"
  }
 },
 "nbformat": 4,
 "nbformat_minor": 0
}
