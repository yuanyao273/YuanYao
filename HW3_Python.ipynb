{
 "cells": [
  {
   "cell_type": "markdown",
   "metadata": {},
   "source": [
    "# Histogram"
   ]
  },
  {
   "cell_type": "code",
   "execution_count": 132,
   "metadata": {
    "collapsed": false
   },
   "outputs": [
    {
     "name": "stdout",
     "output_type": "stream",
     "text": [
      "****\n",
      "**\n",
      "*****\n",
      "*******\n"
     ]
    }
   ],
   "source": [
    "\"\"\"\n",
    "Define a procedure histogram() that\ttakes\ta\tlist\tof\tintegers\tand\tprints\ta\t\n",
    "histogram\tto\tthe\tscreen.\tFor\texample,\thistogram([4,\t9,\t7])\tshould\tprint\tthe\t\n",
    "following:\n",
    "****\n",
    "*********\n",
    "*******\n",
    "I am goting to do this using the for loop\n",
    "\"\"\"\n",
    "\n",
    "def histogram(listn):  #define the function\n",
    "    \n",
    "    #i'm using two nested for loops \n",
    "    for i in range(0,len(listn)):  #first one is going through each number in the list  \n",
    "        n=''       #before the loop start over a new number set n=''\n",
    "        for j in range(0,listn[i]):  #while going through each number, another loop start \n",
    "            n=n+'*'       #get number of * for the number \n",
    "        print(n)         #before the loop start next number, print n\n",
    "        \n",
    "    \n",
    "    \n",
    "    \n",
    "    \n",
    "        \n",
    "    \n",
    " \n",
    " \n",
    "\n",
    "\n",
    "histogram([4,2,5,7])\n"
   ]
  },
  {
   "cell_type": "markdown",
   "metadata": {},
   "source": [
    "# max_in_list()"
   ]
  },
  {
   "cell_type": "code",
   "execution_count": 133,
   "metadata": {
    "collapsed": false
   },
   "outputs": [
    {
     "data": {
      "text/plain": [
       "12"
      ]
     },
     "execution_count": 133,
     "metadata": {},
     "output_type": "execute_result"
    }
   ],
   "source": [
    "\"\"\"The\tfunction\tmax()\tfrom\texercise\t1)\tand\tthe\tfunction\tmax_of_three()\tfrom\t\n",
    "exercise\t2)\twill\tonly\twork\tfor\ttwo\tand\tthree\tnumbers,\trespectively.\tBut\tsuppose\t\n",
    "we\thave\ta\tmuch\tlarger\tnumber\tof\tnumbers,\tor\tsuppose\twe\tcannot\ttell\tin\tadvance\t\n",
    "how\tmany\tthey\tare?\tWrite\ta\tfunction\tmax_in_list()\tthat\ttakes\ta\tlist\tof\tnumbers\t\n",
    "and\treturns\tthe\tlargest\tone\n",
    "The ideal of this function is that set an number equals to 0 then going through each of the number, if the later one is\n",
    "larger than previous one, the set n equals to the greater one\n",
    "if not, keep n equals to the original. after going through every element in the list\n",
    "return n then we could know which one is max:\n",
    "\"\"\"\n",
    "def max_in_list(listn):   #define the function\n",
    "    n=0         #set n=0\n",
    "    for i in range(0,len(listn)):  #use one for loop to go through each number in the list\n",
    "       \n",
    "        if n<=listn[i]:    #if n is less than the list number \n",
    "            n=listn[i]    #set n equals to that number \n",
    "            \n",
    "                      #if not keep n\n",
    "    return n   #out side of the loop return n\n",
    "        \n",
    "\n",
    "        \n",
    "max_in_list([1,3,12,4,5,6,-15])"
   ]
  },
  {
   "cell_type": "markdown",
   "metadata": {},
   "source": [
    "# lengthwords()"
   ]
  },
  {
   "cell_type": "code",
   "execution_count": 134,
   "metadata": {
    "collapsed": false
   },
   "outputs": [
    {
     "name": "stdout",
     "output_type": "stream",
     "text": [
      "[4, 3, 5, 4, 6, 11]\n"
     ]
    }
   ],
   "source": [
    "\"\"\"\n",
    "Write\ta\tprogram\tthat\tmaps\ta\tlist\tof\twords\tinto\ta\tlist\tof\tintegers\trepresenting\tthe\t\n",
    "lengths\tof\tthe\tcorreponding\twords.\n",
    "This is put a list of word then return a list of numbers which represent each of workds length\n",
    "I am going to use a loop to going through each of the workds then return the length of the words \n",
    "store that value into a list:\n",
    "\"\"\"\n",
    "def lengthwords(listn):    #define function\n",
    "    listm=[]     #defuine a new lsit\n",
    "    for i in range(0,len(listn)):     #go through each words in the list\n",
    "        listm.append(len(listn[i]))  #add value to the end of the new list and the value is the lenth of the string\n",
    "        \n",
    "    return listm  #return lsit \n",
    "        \n",
    "\n",
    "\n",
    "print(lengthwords(['yuan','yao','hello','like','python','c++isbetter']))  #test function\n"
   ]
  },
  {
   "cell_type": "markdown",
   "metadata": {},
   "source": [
    "# find_longest_words()"
   ]
  },
  {
   "cell_type": "code",
   "execution_count": 135,
   "metadata": {
    "collapsed": false
   },
   "outputs": [
    {
     "data": {
      "text/plain": [
       "11"
      ]
     },
     "execution_count": 135,
     "metadata": {},
     "output_type": "execute_result"
    }
   ],
   "source": [
    "\"\"\"\n",
    "Write\ta\tfunction\tfind_longest_word()\tthat\ttakes\ta\tlist\tof\twords\tand\treturns\tthe\t\n",
    "length\tof\tthe\tlongest\tone\n",
    "This is very easy to achieve by using the last two functions above, one is return the list of the number of the list\n",
    "to a new list, then call the function by finding the lareget value of the list\n",
    "\"\"\"\n",
    "def find_longest_words(listn):\n",
    "    listm=lengthwords(listn)  #call the function to store each length of the words to a new list\n",
    "    n=max_in_list(listm)   #find the max of the list above \n",
    "    return n  \n",
    "\n",
    "find_longest_words(['yuan','yao','hello','like','python','c++isbetter'])\n",
    "#it's a little lazy to call the function above :-)"
   ]
  },
  {
   "cell_type": "markdown",
   "metadata": {},
   "source": [
    "# filter_long_words()"
   ]
  },
  {
   "cell_type": "code",
   "execution_count": 136,
   "metadata": {
    "collapsed": false
   },
   "outputs": [
    {
     "data": {
      "text/plain": [
       "['yuan', 'hello', 'like', 'python', 'c++isbetter']"
      ]
     },
     "execution_count": 136,
     "metadata": {},
     "output_type": "execute_result"
    }
   ],
   "source": [
    "\"\"\"\n",
    "Write\ta\tfunction\tfilter_long_words()\tthat\ttakes\ta\tlist\tof\twords\tand\tan\tinteger\tn\t\n",
    "and\treturns\tthe\tlist\tof\twords\tthat\tare\tlonger\tthan\tn\n",
    "\n",
    "My ideal to do this function is that using for loop to go through each elemetn in that list and then \n",
    "use a new list to store the value if the length is larger than n, then return the new list\n",
    "\"\"\"\n",
    "def filter_long_words(listn,n):  #define function\n",
    "    listm=[]      #new list\n",
    "    for i in range(0,len(listn)):  #going through each element at the list\n",
    "        if len(listn[i])>n:   #if the words is longger than n\n",
    "            listm.append(listn[i])  #store it into a new list\n",
    "    \n",
    "    return listm  #return list \n",
    "\n",
    "\n",
    "filter_long_words(['yuan','yao','hello','like','python','c++isbetter'],3)"
   ]
  },
  {
   "cell_type": "markdown",
   "metadata": {},
   "source": [
    "# palindrome_recognizer()"
   ]
  },
  {
   "cell_type": "code",
   "execution_count": 137,
   "metadata": {
    "collapsed": false
   },
   "outputs": [],
   "source": [
    "\"\"\"\n",
    "Write\ta\tversion\tof\ta\tpalindrome\trecognizer\tthat\talso\taccepts\tphrase\tpalindromes\t\n",
    "such\tas\t\"Go\thang\ta\tsalami\tI'm\ta\tlasagna\thog.\",\t\"Was\tit\ta\trat\tI\tsaw?\",\t\"Step\ton\tno\t\n",
    "pets\",\t\"Sit\ton\ta\tpotato\tpan,\tOtis\",\t\"Lisa\tBonet\tate\tno\tbasil\",\t\"Rise\tto\tvote\tsir\",\tor\t\n",
    "the\texclamation\t\"Dammit,\tI'm\tmad!\".\tNote\tthat\tpunctuation,\tcapitalization,\tand\t\n",
    "spacing\tare\tusually\tignored.\n",
    "\n",
    "The ideal that I am going to do this is using regular expresion opereations\n",
    "first, get rid of all the punctuations and then lower all the letters in that string\n",
    "the reverse that string to see if the string is equal to it's reverse.\n",
    "then return true or false\n",
    "\"\"\"\n",
    "import re  #borrow regular expression operations\n",
    "\n",
    "def palindrome_recognizer(string): #define function\n",
    "    newstring=re.sub('[^a-zA-Z0-9]','',string)  #subtract all the char which is not a-z and A-Z and put in new string\n",
    "    n=newstring.lower() #lower all the capitalized letters\n",
    "    m=n[::-1]  #to reverse the string above\n",
    "    if m==n:   #if the reverse is equal to the original one\n",
    "        return True   #return true\n",
    "    else:\n",
    "        return False  #else return false \n",
    "\n",
    "\n"
   ]
  },
  {
   "cell_type": "code",
   "execution_count": 138,
   "metadata": {
    "collapsed": false
   },
   "outputs": [
    {
     "data": {
      "text/plain": [
       "True"
      ]
     },
     "execution_count": 138,
     "metadata": {},
     "output_type": "execute_result"
    }
   ],
   "source": [
    "#test function above\n",
    "palindrome_recognizer('\"Go hang a salami Im a lasagna hog.')\n",
    "palindrome_recognizer('Was it a rat I saw?')\n",
    "palindrome_recognizer('Step on no pets')\n",
    "\n",
    "palindrome_recognizer('Dammit, Im mad!')"
   ]
  },
  {
   "cell_type": "markdown",
   "metadata": {},
   "source": [
    "# pangram()"
   ]
  },
  {
   "cell_type": "code",
   "execution_count": 139,
   "metadata": {
    "collapsed": true
   },
   "outputs": [],
   "source": [
    "\"\"\"\n",
    "A\tpangram\tis\ta\tsentence\tthat\tcontains\tall\tthe\tletters\tof\tthe\tEnglish\talphabet\tat\t\n",
    "least\tonce,\tfor\texample:\tThe\tquick\tbrown\tfox\tjumps\tover\tthe\tlazy\tdog.\tYour\ttask\t\n",
    "here\tis\tto\twrite\ta\tfunction\tto\tcheck\ta\tsentence\tto\tsee\tif\tit\tis\ta\tpangram\tor\tnot.\n",
    "\n",
    "The ideal that I am going to do is by two steps. First  check the input string itself whether it is lareger\n",
    "than 26 which is all the alpabat, if not return false directly, then put all the alphabat which subtract all the space\n",
    "and punctuation etc, then compare whether all the aphapbet being conunting once, by using for loops\n",
    "then if all the aphapbet being usin once, then return ture\n",
    "\n",
    "\"\"\"\n",
    "import re\n",
    "\n",
    "def pangram(s):  #define function\n",
    "    apphalist='abcdefghijklmnopqrstuvwxyz'   #define a list \n",
    "    count=0   #define the check number\n",
    "    if len(s)<26:\n",
    "        return False   #if the string length is less 26, obviously is wrong\n",
    "    else:\n",
    "        s = re.sub('[^a-zA-Z]','',s).lower()  #subtract all nonaphalbet element inthe string\n",
    "        for i in range(0,len(apphalist)):  #check each individual aph in the string, if in the string count +1\n",
    "            if apphalist[i] in s:\n",
    "                count=count+1\n",
    "        \n",
    "        if count==26:  #if all apha in the list, the count should equal to 26\n",
    "            return True\n",
    "        else:\n",
    "            return False\n",
    "        \n",
    "\n",
    "        \n",
    "                \n",
    "        \n",
    "    "
   ]
  },
  {
   "cell_type": "code",
   "execution_count": 140,
   "metadata": {
    "collapsed": false
   },
   "outputs": [
    {
     "data": {
      "text/plain": [
       "True"
      ]
     },
     "execution_count": 140,
     "metadata": {},
     "output_type": "execute_result"
    }
   ],
   "source": [
    "pangram('The quick brown fox jumps over the lazy dog')"
   ]
  },
  {
   "cell_type": "markdown",
   "metadata": {},
   "source": [
    "# singBottlesOfCoke()"
   ]
  },
  {
   "cell_type": "code",
   "execution_count": 141,
   "metadata": {
    "collapsed": false
   },
   "outputs": [],
   "source": [
    "\"\"\"\n",
    "\"99\tBottles\tof\tCoke\"\tis\ta\ttraditional\tsong\tin\tthe\tUnited\tStates\tand\tCanada.\tIt\tis\t\n",
    "popular\tto\tsing\ton\tlong\ttrips,\tas\tit\thas\ta\tvery\trepetitive\tformat\twhich\tis\teasy\tto\t\n",
    "memorize,\tand\tcan\ttake\ta\tlong\ttime\tto\tsing. The\tsong's\tsimple\tlyrics\tare\tas\t\n",
    "follows:\n",
    "99\tbottles\tof\tcoke\ton\tthe\twall,\t99\tbottles\tof\tcoke.\n",
    "Take\tone\tdown,\tpass\tit\taround,\t98\tbottles\tof\tcoke\ton\tthe\twall.\n",
    "The\tsame\tverse\tis\trepeated,\teach\ttime\twith\tone\tfewer\tbottle.\tThe\tsong\tis\t\n",
    "completed\twhen\tthe\tsinger\tor\tsingers\treach\tzero.\n",
    "Your\ttask\there\tis\twrite\ta\tPython\tprogram\tcapable\tof\tgenerating\tall\tthe\tverses\tof\tthe\tsong.\n",
    "This is very easy repeated work\n",
    "\n",
    "\"\"\"\n",
    "\n",
    "def singBottlesofCoke():\n",
    "    for i in range(99,0,-1):    #for i start from 99 to 1\n",
    "        print(str(i)+' bottles of coke on the wall,'+str(i)+' bottles of coke.')   #print the text\n",
    "        print('Take one down, pass it around,'+str(i-1)+' bottles of coke on the wall.')\n",
    "        \n",
    "#very simple for loop"
   ]
  },
  {
   "cell_type": "code",
   "execution_count": 142,
   "metadata": {
    "collapsed": false
   },
   "outputs": [
    {
     "name": "stdout",
     "output_type": "stream",
     "text": [
      "99 bottles of coke on the wall,99 bottles of coke.\n",
      "Take one down, pass it around,98 bottles of coke on the wall.\n",
      "98 bottles of coke on the wall,98 bottles of coke.\n",
      "Take one down, pass it around,97 bottles of coke on the wall.\n",
      "97 bottles of coke on the wall,97 bottles of coke.\n",
      "Take one down, pass it around,96 bottles of coke on the wall.\n",
      "96 bottles of coke on the wall,96 bottles of coke.\n",
      "Take one down, pass it around,95 bottles of coke on the wall.\n",
      "95 bottles of coke on the wall,95 bottles of coke.\n",
      "Take one down, pass it around,94 bottles of coke on the wall.\n",
      "94 bottles of coke on the wall,94 bottles of coke.\n",
      "Take one down, pass it around,93 bottles of coke on the wall.\n",
      "93 bottles of coke on the wall,93 bottles of coke.\n",
      "Take one down, pass it around,92 bottles of coke on the wall.\n",
      "92 bottles of coke on the wall,92 bottles of coke.\n",
      "Take one down, pass it around,91 bottles of coke on the wall.\n",
      "91 bottles of coke on the wall,91 bottles of coke.\n",
      "Take one down, pass it around,90 bottles of coke on the wall.\n",
      "90 bottles of coke on the wall,90 bottles of coke.\n",
      "Take one down, pass it around,89 bottles of coke on the wall.\n",
      "89 bottles of coke on the wall,89 bottles of coke.\n",
      "Take one down, pass it around,88 bottles of coke on the wall.\n",
      "88 bottles of coke on the wall,88 bottles of coke.\n",
      "Take one down, pass it around,87 bottles of coke on the wall.\n",
      "87 bottles of coke on the wall,87 bottles of coke.\n",
      "Take one down, pass it around,86 bottles of coke on the wall.\n",
      "86 bottles of coke on the wall,86 bottles of coke.\n",
      "Take one down, pass it around,85 bottles of coke on the wall.\n",
      "85 bottles of coke on the wall,85 bottles of coke.\n",
      "Take one down, pass it around,84 bottles of coke on the wall.\n",
      "84 bottles of coke on the wall,84 bottles of coke.\n",
      "Take one down, pass it around,83 bottles of coke on the wall.\n",
      "83 bottles of coke on the wall,83 bottles of coke.\n",
      "Take one down, pass it around,82 bottles of coke on the wall.\n",
      "82 bottles of coke on the wall,82 bottles of coke.\n",
      "Take one down, pass it around,81 bottles of coke on the wall.\n",
      "81 bottles of coke on the wall,81 bottles of coke.\n",
      "Take one down, pass it around,80 bottles of coke on the wall.\n",
      "80 bottles of coke on the wall,80 bottles of coke.\n",
      "Take one down, pass it around,79 bottles of coke on the wall.\n",
      "79 bottles of coke on the wall,79 bottles of coke.\n",
      "Take one down, pass it around,78 bottles of coke on the wall.\n",
      "78 bottles of coke on the wall,78 bottles of coke.\n",
      "Take one down, pass it around,77 bottles of coke on the wall.\n",
      "77 bottles of coke on the wall,77 bottles of coke.\n",
      "Take one down, pass it around,76 bottles of coke on the wall.\n",
      "76 bottles of coke on the wall,76 bottles of coke.\n",
      "Take one down, pass it around,75 bottles of coke on the wall.\n",
      "75 bottles of coke on the wall,75 bottles of coke.\n",
      "Take one down, pass it around,74 bottles of coke on the wall.\n",
      "74 bottles of coke on the wall,74 bottles of coke.\n",
      "Take one down, pass it around,73 bottles of coke on the wall.\n",
      "73 bottles of coke on the wall,73 bottles of coke.\n",
      "Take one down, pass it around,72 bottles of coke on the wall.\n",
      "72 bottles of coke on the wall,72 bottles of coke.\n",
      "Take one down, pass it around,71 bottles of coke on the wall.\n",
      "71 bottles of coke on the wall,71 bottles of coke.\n",
      "Take one down, pass it around,70 bottles of coke on the wall.\n",
      "70 bottles of coke on the wall,70 bottles of coke.\n",
      "Take one down, pass it around,69 bottles of coke on the wall.\n",
      "69 bottles of coke on the wall,69 bottles of coke.\n",
      "Take one down, pass it around,68 bottles of coke on the wall.\n",
      "68 bottles of coke on the wall,68 bottles of coke.\n",
      "Take one down, pass it around,67 bottles of coke on the wall.\n",
      "67 bottles of coke on the wall,67 bottles of coke.\n",
      "Take one down, pass it around,66 bottles of coke on the wall.\n",
      "66 bottles of coke on the wall,66 bottles of coke.\n",
      "Take one down, pass it around,65 bottles of coke on the wall.\n",
      "65 bottles of coke on the wall,65 bottles of coke.\n",
      "Take one down, pass it around,64 bottles of coke on the wall.\n",
      "64 bottles of coke on the wall,64 bottles of coke.\n",
      "Take one down, pass it around,63 bottles of coke on the wall.\n",
      "63 bottles of coke on the wall,63 bottles of coke.\n",
      "Take one down, pass it around,62 bottles of coke on the wall.\n",
      "62 bottles of coke on the wall,62 bottles of coke.\n",
      "Take one down, pass it around,61 bottles of coke on the wall.\n",
      "61 bottles of coke on the wall,61 bottles of coke.\n",
      "Take one down, pass it around,60 bottles of coke on the wall.\n",
      "60 bottles of coke on the wall,60 bottles of coke.\n",
      "Take one down, pass it around,59 bottles of coke on the wall.\n",
      "59 bottles of coke on the wall,59 bottles of coke.\n",
      "Take one down, pass it around,58 bottles of coke on the wall.\n",
      "58 bottles of coke on the wall,58 bottles of coke.\n",
      "Take one down, pass it around,57 bottles of coke on the wall.\n",
      "57 bottles of coke on the wall,57 bottles of coke.\n",
      "Take one down, pass it around,56 bottles of coke on the wall.\n",
      "56 bottles of coke on the wall,56 bottles of coke.\n",
      "Take one down, pass it around,55 bottles of coke on the wall.\n",
      "55 bottles of coke on the wall,55 bottles of coke.\n",
      "Take one down, pass it around,54 bottles of coke on the wall.\n",
      "54 bottles of coke on the wall,54 bottles of coke.\n",
      "Take one down, pass it around,53 bottles of coke on the wall.\n",
      "53 bottles of coke on the wall,53 bottles of coke.\n",
      "Take one down, pass it around,52 bottles of coke on the wall.\n",
      "52 bottles of coke on the wall,52 bottles of coke.\n",
      "Take one down, pass it around,51 bottles of coke on the wall.\n",
      "51 bottles of coke on the wall,51 bottles of coke.\n",
      "Take one down, pass it around,50 bottles of coke on the wall.\n",
      "50 bottles of coke on the wall,50 bottles of coke.\n",
      "Take one down, pass it around,49 bottles of coke on the wall.\n",
      "49 bottles of coke on the wall,49 bottles of coke.\n",
      "Take one down, pass it around,48 bottles of coke on the wall.\n",
      "48 bottles of coke on the wall,48 bottles of coke.\n",
      "Take one down, pass it around,47 bottles of coke on the wall.\n",
      "47 bottles of coke on the wall,47 bottles of coke.\n",
      "Take one down, pass it around,46 bottles of coke on the wall.\n",
      "46 bottles of coke on the wall,46 bottles of coke.\n",
      "Take one down, pass it around,45 bottles of coke on the wall.\n",
      "45 bottles of coke on the wall,45 bottles of coke.\n",
      "Take one down, pass it around,44 bottles of coke on the wall.\n",
      "44 bottles of coke on the wall,44 bottles of coke.\n",
      "Take one down, pass it around,43 bottles of coke on the wall.\n",
      "43 bottles of coke on the wall,43 bottles of coke.\n",
      "Take one down, pass it around,42 bottles of coke on the wall.\n",
      "42 bottles of coke on the wall,42 bottles of coke.\n",
      "Take one down, pass it around,41 bottles of coke on the wall.\n",
      "41 bottles of coke on the wall,41 bottles of coke.\n",
      "Take one down, pass it around,40 bottles of coke on the wall.\n",
      "40 bottles of coke on the wall,40 bottles of coke.\n",
      "Take one down, pass it around,39 bottles of coke on the wall.\n",
      "39 bottles of coke on the wall,39 bottles of coke.\n",
      "Take one down, pass it around,38 bottles of coke on the wall.\n",
      "38 bottles of coke on the wall,38 bottles of coke.\n",
      "Take one down, pass it around,37 bottles of coke on the wall.\n",
      "37 bottles of coke on the wall,37 bottles of coke.\n",
      "Take one down, pass it around,36 bottles of coke on the wall.\n",
      "36 bottles of coke on the wall,36 bottles of coke.\n",
      "Take one down, pass it around,35 bottles of coke on the wall.\n",
      "35 bottles of coke on the wall,35 bottles of coke.\n",
      "Take one down, pass it around,34 bottles of coke on the wall.\n",
      "34 bottles of coke on the wall,34 bottles of coke.\n",
      "Take one down, pass it around,33 bottles of coke on the wall.\n",
      "33 bottles of coke on the wall,33 bottles of coke.\n",
      "Take one down, pass it around,32 bottles of coke on the wall.\n",
      "32 bottles of coke on the wall,32 bottles of coke.\n",
      "Take one down, pass it around,31 bottles of coke on the wall.\n",
      "31 bottles of coke on the wall,31 bottles of coke.\n",
      "Take one down, pass it around,30 bottles of coke on the wall.\n",
      "30 bottles of coke on the wall,30 bottles of coke.\n",
      "Take one down, pass it around,29 bottles of coke on the wall.\n",
      "29 bottles of coke on the wall,29 bottles of coke.\n",
      "Take one down, pass it around,28 bottles of coke on the wall.\n",
      "28 bottles of coke on the wall,28 bottles of coke.\n",
      "Take one down, pass it around,27 bottles of coke on the wall.\n",
      "27 bottles of coke on the wall,27 bottles of coke.\n",
      "Take one down, pass it around,26 bottles of coke on the wall.\n",
      "26 bottles of coke on the wall,26 bottles of coke.\n",
      "Take one down, pass it around,25 bottles of coke on the wall.\n",
      "25 bottles of coke on the wall,25 bottles of coke.\n",
      "Take one down, pass it around,24 bottles of coke on the wall.\n",
      "24 bottles of coke on the wall,24 bottles of coke.\n",
      "Take one down, pass it around,23 bottles of coke on the wall.\n",
      "23 bottles of coke on the wall,23 bottles of coke.\n",
      "Take one down, pass it around,22 bottles of coke on the wall.\n",
      "22 bottles of coke on the wall,22 bottles of coke.\n",
      "Take one down, pass it around,21 bottles of coke on the wall.\n",
      "21 bottles of coke on the wall,21 bottles of coke.\n",
      "Take one down, pass it around,20 bottles of coke on the wall.\n",
      "20 bottles of coke on the wall,20 bottles of coke.\n",
      "Take one down, pass it around,19 bottles of coke on the wall.\n",
      "19 bottles of coke on the wall,19 bottles of coke.\n",
      "Take one down, pass it around,18 bottles of coke on the wall.\n",
      "18 bottles of coke on the wall,18 bottles of coke.\n",
      "Take one down, pass it around,17 bottles of coke on the wall.\n",
      "17 bottles of coke on the wall,17 bottles of coke.\n",
      "Take one down, pass it around,16 bottles of coke on the wall.\n",
      "16 bottles of coke on the wall,16 bottles of coke.\n",
      "Take one down, pass it around,15 bottles of coke on the wall.\n",
      "15 bottles of coke on the wall,15 bottles of coke.\n",
      "Take one down, pass it around,14 bottles of coke on the wall.\n",
      "14 bottles of coke on the wall,14 bottles of coke.\n",
      "Take one down, pass it around,13 bottles of coke on the wall.\n",
      "13 bottles of coke on the wall,13 bottles of coke.\n",
      "Take one down, pass it around,12 bottles of coke on the wall.\n",
      "12 bottles of coke on the wall,12 bottles of coke.\n",
      "Take one down, pass it around,11 bottles of coke on the wall.\n",
      "11 bottles of coke on the wall,11 bottles of coke.\n",
      "Take one down, pass it around,10 bottles of coke on the wall.\n",
      "10 bottles of coke on the wall,10 bottles of coke.\n",
      "Take one down, pass it around,9 bottles of coke on the wall.\n",
      "9 bottles of coke on the wall,9 bottles of coke.\n",
      "Take one down, pass it around,8 bottles of coke on the wall.\n",
      "8 bottles of coke on the wall,8 bottles of coke.\n",
      "Take one down, pass it around,7 bottles of coke on the wall.\n",
      "7 bottles of coke on the wall,7 bottles of coke.\n",
      "Take one down, pass it around,6 bottles of coke on the wall.\n",
      "6 bottles of coke on the wall,6 bottles of coke.\n",
      "Take one down, pass it around,5 bottles of coke on the wall.\n",
      "5 bottles of coke on the wall,5 bottles of coke.\n",
      "Take one down, pass it around,4 bottles of coke on the wall.\n",
      "4 bottles of coke on the wall,4 bottles of coke.\n",
      "Take one down, pass it around,3 bottles of coke on the wall.\n",
      "3 bottles of coke on the wall,3 bottles of coke.\n",
      "Take one down, pass it around,2 bottles of coke on the wall.\n",
      "2 bottles of coke on the wall,2 bottles of coke.\n",
      "Take one down, pass it around,1 bottles of coke on the wall.\n",
      "1 bottles of coke on the wall,1 bottles of coke.\n",
      "Take one down, pass it around,0 bottles of coke on the wall.\n"
     ]
    }
   ],
   "source": [
    "singBottlesofCoke()"
   ]
  },
  {
   "cell_type": "markdown",
   "metadata": {},
   "source": [
    "# Translate"
   ]
  },
  {
   "cell_type": "code",
   "execution_count": 143,
   "metadata": {
    "collapsed": true
   },
   "outputs": [],
   "source": [
    "\"\"\"\n",
    "Represent\ta\tsmall\tbilingual\tlexicon\tas\ta\tPython\tdictionary\tin\tthe\tfollowing\t\n",
    "fashion\t{\"merry\":\"god\",\t\"christmas\":\"jul\",\t\"and\":\"och\",\t\"happy\":gott\",\t\n",
    "\"new\":\"nytt\",\t\"year\":\"år\"}\tand\tuse\tit\tto\ttranslate\tyour\tChristmas\tcards\tfrom\t\n",
    "English\tinto\tSwedish.\tThat\tis,\twrite\ta\tfunction\ttranslate()\tthat\ttakes\ta\tlist\tof\t\n",
    "English\twords\tand\treturns\ta\tlist\tof\tSwedish\twords.\n",
    "This is a function that will use the map dictionary\n",
    "\"\"\"\n",
    "\n",
    "import re #inport the regular expression \n",
    "\n",
    "dictionary = {'merry':'god','christmas':'jul','and':'och','happy':'gott','new':'nytt','year':'år'}\n",
    " # creat the dictionary\n",
    "def translate(inputString):  #define the function\n",
    " \n",
    "    translatedString = ''  #set return string to ''\n",
    "     \n",
    "   \n",
    "    for i in inputString.split(' '): #split the string by space, then check each individual string\n",
    " \n",
    "        if (str(dictionary.get(i))) != '': #to check whether it is not euaqual to the space \n",
    "            translatedString = translatedString+str(dictionary.get(i))+\" \" #The translated one equal to the dicitonary one\n",
    "              #add up to new string\n",
    "        else:\n",
    "            translatedString = \"\"  #if not set it equalto space \n",
    "            return translatedString  #return new string\n",
    "             \n",
    "    return translatedString #reurn it"
   ]
  },
  {
   "cell_type": "code",
   "execution_count": 144,
   "metadata": {
    "collapsed": false
   },
   "outputs": [
    {
     "data": {
      "text/plain": [
       "'god jul och gott nytt år None None '"
      ]
     },
     "execution_count": 144,
     "metadata": {},
     "output_type": "execute_result"
    }
   ],
   "source": [
    "translate('merry christmas and happy new year to you')"
   ]
  },
  {
   "cell_type": "markdown",
   "metadata": {},
   "source": [
    "# char_freq()"
   ]
  },
  {
   "cell_type": "code",
   "execution_count": 145,
   "metadata": {
    "collapsed": false
   },
   "outputs": [
    {
     "name": "stdout",
     "output_type": "stream",
     "text": [
      "{'a': 4}\n"
     ]
    }
   ],
   "source": [
    "\"\"\"\n",
    "Write\ta\tfunction\tchar_freq()\tthat\ttakes\ta\tstring\tand\tbuilds\ta\tfrequency\tlisting\tof\t\n",
    "the\tcharacters\tcontained\tin\tit.\tRepresent\tthe\tfrequency\tlisting\tas\ta\tPython\t\n",
    "dictionary.\tTry\tit\twith\tsomething\tlike\t\n",
    "char_freq(\"abbabcbdbabdbdbabababcbcbab\").\n",
    "\n",
    "The ideal is very simple, as function above, we have the dictionary because it give us, this ideal is that we \n",
    "creatt the dictionary and finally return the dictionary, the dictionary should be mapped from some char to some key \n",
    "words to the dictionary\n",
    "\n",
    "\"\"\"\n",
    "\n",
    "def char_freq(s):\n",
    " \n",
    "    dictionary = {}  #create an empty dictionary\n",
    "    \n",
    " \n",
    "    \n",
    "     \n",
    "    for i in range(len(s)):  #use for loop to check each individual element at the string s\n",
    " \n",
    "        if s[i] in dictionary:  #here the dictionary is empty if the element is  in dictionary\n",
    "            dictionary[s[i]]= int(dictionary.get(s[i]))+1 #map it to the number +1 and put in dictionary\n",
    "        else:\n",
    "            dictionary[s[i]]= 1  #if not, set it to 1\n",
    " \n",
    "    return dictionary\n",
    "         \n",
    "print(str(char_freq(\"aaaa\")))"
   ]
  },
  {
   "cell_type": "markdown",
   "metadata": {},
   "source": [
    "# decoder_encoder()"
   ]
  },
  {
   "cell_type": "code",
   "execution_count": 147,
   "metadata": {
    "collapsed": false
   },
   "outputs": [],
   "source": [
    "\"\"\"\n",
    "1. In\tcryptography,\ta\tCaesar\tcipher\tis\ta\tvery\tsimple\tencryption\ttechniques\tin\twhich\t\n",
    "each\tletter\tin\tthe\tplain\ttext\tis\treplaced\tby\ta\tletter\tsome\tfixed\tnumber\tof\tpositions\t\n",
    "down\tthe\talphabet.\tFor\texample,\twith\ta\tshift\tof\t3,\tA\twould\tbe\treplaced\tby\tD,\tB\t\n",
    "would\tbecome\tE,\tand\tso\ton.\tThe\tmethod\tis\tnamed\tafter\tJulius\tCaesar,\twho\tused\tit\t\n",
    "to\tcommunicate\twith\this\tgenerals.\tROT-13\t(\"rotate\tby\t13\tplaces\")\tis\ta\twidely\t\n",
    "used\texample\tof\ta\tCaesar\tcipher\twhere\tthe\tshift\tis\t13.\tIn\tPython,\tthe\tkey\tfor\t\n",
    "ROT-13\tmay\tbe\trepresented\tby\tmeans\tof\tthe\tfollowing\tdictionary:\n",
    "key\t=\t{'a':'n',\t'b':'o',\t'c':'p',\t'd':'q',\t'e':'r',\t'f':'s',\t'g':'t',\t'h':'u',\t\n",
    "\t\t\t\t\t\t\t'i':'v',\t'j':'w',\t'k':'x',\t'l':'y',\t'm':'z',\t'n':'a',\t'o':'b',\t'p':'c',\t\n",
    "\t\t\t\t\t\t\t'q':'d',\t'r':'e',\t's':'f',\t't':'g',\t'u':'h',\t'v':'i',\t'w':'j',\t'x':'k',\n",
    "\t\t\t\t\t\t\t'y':'l',\t'z':'m',\t'A':'N',\t'B':'O',\t'C':'P',\t'D':'Q',\t'E':'R',\t'F':'S',\t\n",
    "\t\t\t\t\t\t\t'G':'T',\t'H':'U',\t'I':'V',\t'J':'W',\t'K':'X',\t'L':'Y',\t'M':'Z',\t'N':'A',\t\n",
    "\t\t\t\t\t\t\t'O':'B',\t'P':'C',\t'Q':'D',\t'R':'E',\t'S':'F',\t'T':'G',\t'U':'H',\t'V':'I',\t\n",
    "\t\t\t\t\t\t\t'W':'J',\t'X':'K',\t'Y':'L',\t'Z':'M'}\n",
    "Your\ttask\tin\tthis\texercise\tis\tto\timplement\tan\tencoder/decoder\tof\tROT-13.\tOnce\t\n",
    "you're\tdone,\tyou\twill\tbe\table\tto\tread\tthe\tfollowing\tsecret\tmessage:\n",
    "\t\t\tPnrfne\tpvcure?\tV\tzhpu\tcersre\tPnrfne\tfnynq!\n",
    "            \n",
    "Note\tthat\tsince\tEnglish\thas\t26\tcharacters,\tyour\tROT-13\tprogram\twill\tbe\table\tto\t\n",
    "both\tencode\tand\tdecode\ttexts\twritten\tin\tEnglish.\n",
    "\n",
    "My ideal is very simple ,split the sentence into word and then to letters\n",
    "serach each letter in the key\n",
    "then create new world \n",
    "\"\"\"\n",
    "\n",
    "import re #at most time use the regular expression operation\n",
    "key = {'a':'n', 'b':'o', 'c':'p', 'd':'q', 'e':'r', 'f':'s', 'g':'t', 'h':'u', \n",
    "       'i':'v', 'j':'w', 'k':'x', 'l':'y', 'm':'z', 'n':'a', 'o':'b', 'p':'c', \n",
    "       'q':'d', 'r':'e', 's':'f', 't':'g', 'u':'h', 'v':'i', 'w':'j', 'x':'k',\n",
    "       'y':'l', 'z':'m', 'A':'N', 'B':'O', 'C':'P', 'D':'Q', 'E':'R', 'F':'S', \n",
    "       'G':'T', 'H':'U', 'I':'V', 'J':'W', 'K':'X', 'L':'Y', 'M':'Z', 'N':'A', \n",
    "       'O':'B', 'P':'C', 'Q':'D', 'R':'E', 'S':'F', 'T':'G', 'U':'H', 'V':'I', \n",
    "       'W':'J', 'X':'K', 'Y':'L', 'Z':'M'}\n",
    "#copy the 13 key from the homework\n",
    "\n",
    "def decoder_encoder(s):  #define function\n",
    "    new=''  # This is the new string that I am going to return from encoder\n",
    "    print(s) #print inputstring to compare the one that encoded\n",
    "    for i in (re.findall('[a-zA-Z0-9?!]+', s)):   #first break down sentence into words and store into list\n",
    "        for j in range(len(i)):    #go through the list and break it down into letters\n",
    "            if i[j] in key:     #to find the letters into the key dictionary\n",
    "                new=new+key[i[j]]  #if matches,swithch encoded one into new string\n",
    "            else:\n",
    "                new=new+i[j] #other wise return the same letter\n",
    "        \n",
    "        new=new+' ' #the string should have space between words and words\n",
    "    \n",
    "    print(new)\n",
    "    \n",
    "            \n",
    "                                                     \n",
    "    \n"
   ]
  },
  {
   "cell_type": "code",
   "execution_count": 148,
   "metadata": {
    "collapsed": false
   },
   "outputs": [
    {
     "name": "stdout",
     "output_type": "stream",
     "text": [
      "Pnrfne pvcure? V zhpu cersre Pnrfne fnynq!\n",
      "Caesar cipher? I much prefer Caesar salad! \n"
     ]
    }
   ],
   "source": [
    "decoder_encoder('Pnrfne pvcure? V zhpu cersre Pnrfne fnynq!')"
   ]
  },
  {
   "cell_type": "markdown",
   "metadata": {},
   "source": [
    "# correct()"
   ]
  },
  {
   "cell_type": "code",
   "execution_count": 149,
   "metadata": {
    "collapsed": true
   },
   "outputs": [],
   "source": [
    "\"\"\"\n",
    "Define\ta\tsimple\t\"spelling\tcorrection\"\tfunction\tcorrect()\tthat\ttakes\ta\tstring\tand\t\n",
    "sees\tto\tit\tthat\t1)\ttwo\tor\tmore\toccurrences\tof\tthe\tspace\tcharacter\tis\tcompressed\t\n",
    "into\tone,\tand\t2)\tinserts\tan\textra\tspace\tafter\ta\tperiod\tif\tthe\tperiod\tis\tdirectly\t\n",
    "followed\tby\ta\tletter.\tE.g.\tcorrect(\"This\t\t\tis\t\tvery\tfunny\t\tand\t\t\t\tcool.Indeed!\")\t\n",
    "should\treturn\t\"This\tis\tvery\tfunny\tand\tcool.\tIndeed!\"\n",
    "\n",
    "This is very simple to do too by using regular expression operation\n",
    "\"\"\"\n",
    "import re\n",
    "def correct(s):\n",
    "    correctone = re.sub('\\ +',' ',s) #subtract extra space\n",
    "    correctone = re.sub('\\.','. ',s)#add extra space after period\n",
    "    print(correctone)\n",
    "    \n",
    "#find all this by enter help(re)"
   ]
  },
  {
   "cell_type": "code",
   "execution_count": 151,
   "metadata": {
    "collapsed": false
   },
   "outputs": [
    {
     "name": "stdout",
     "output_type": "stream",
     "text": [
      "This is very funny and cool. Indeed!\n"
     ]
    }
   ],
   "source": [
    "correct('This is very funny and cool.Indeed!')"
   ]
  },
  {
   "cell_type": "markdown",
   "metadata": {},
   "source": [
    "# Make_3sg_form()"
   ]
  },
  {
   "cell_type": "code",
   "execution_count": 167,
   "metadata": {
    "collapsed": false
   },
   "outputs": [],
   "source": [
    "\"\"\"\n",
    "The\tthird\tperson\tsingular\tverb\tform\tin\tEnglish\tis\tdistinguished\tby\tthe\tsuffix\t-s,\t\n",
    "which\tis\tadded\tto\tthe\tstem\tof\tthe\tinfinitive\tform:\trun\t->\truns.\tA\tsimple\tset\tof\t\n",
    "rules\tcan\tbe\tgiven\tas\tfollows:\n",
    "• If\tthe\tverb\tends\tin\ty,\tremove\tit\tand\tadd\ties\n",
    "• If\tthe\tverb\tends\tin\to,\tch,\ts,\tsh,\tx\tor\tz,\tadd\tes\n",
    "• By\tdefault\tjust\tadd\ts\n",
    "Your\ttask\tin\tthis\texercise\tis\tto\tdefine\ta\tfunction\tmake_3sg_form()\twhich\tgiven\ta\t\n",
    "verb\tin\tinfinitive\tform\treturns\tits\tthird\tperson\tsingular\tform.\tTest\tyour\tfunction\t\n",
    "with\twords\tlike\ttry,\tbrush,\trun\tand\tfix.\tNote\thowever\tthat\tthe\trules\tmust\tbe\t\n",
    "regarded\tas\theuristic,\tin\tthe sense\tthat\tyou\tmust\tnot\texpect\tthem\tto\twork\tfor\tall\t\n",
    "cases.\tTip:\tCheck\tout\tthe\tstring\tmethod\tendswith().\n",
    "\n",
    "\"\"\"\n",
    "import re\n",
    "\n",
    "def make_3sg_form(s):\n",
    "    third=''   #get new string to return thirdperson type\n",
    "    if s.endswith('y'):  #cases that end with y\n",
    "        for i in range(len(s)-1):\n",
    "            third=third+s[i]  #remove y\n",
    "        third=third+'ies'   #plus ies\n",
    "    elif s.endswith(('o','ch','s','sh','x','z')):  #cases that end with thise leter\n",
    "        third=s+'es'  #plus es\n",
    "    else:\n",
    "        third=s+'s' #else plus s\n",
    "    \n",
    "    print(third)  #return new string\n",
    "        \n",
    "        "
   ]
  },
  {
   "cell_type": "code",
   "execution_count": 168,
   "metadata": {
    "collapsed": false
   },
   "outputs": [
    {
     "name": "stdout",
     "output_type": "stream",
     "text": [
      "puts\n",
      "pushes\n",
      "churches\n",
      "ishes\n",
      "slutties\n"
     ]
    }
   ],
   "source": [
    "make_3sg_form('put')\n",
    "make_3sg_form('push')\n",
    "make_3sg_form('church')\n",
    "make_3sg_form('ish')\n",
    "make_3sg_form('slutty')"
   ]
  },
  {
   "cell_type": "markdown",
   "metadata": {},
   "source": [
    "# \tmake_ing_form()"
   ]
  },
  {
   "cell_type": "code",
   "execution_count": 184,
   "metadata": {
    "collapsed": true
   },
   "outputs": [],
   "source": [
    "\"\"\"\n",
    ". In\tEnglish,\tthe\tpresent\tparticiple\tis\tformed\tby\tadding\tthe\tsuffix\t-ing\tto\tthe\t\n",
    "infinite\tform:\tgo\t->\tgoing.\tA\tsimple\tset\tof\theuristic\trules\tcan\tbe\tgiven as\tfollows:\n",
    "• If\tthe\tverb\tends\tin\te,\tdrop\tthe\te\tand\tadd\ting\t(if\tnot\texception:\tbe,\tsee,\tflee,\t\n",
    "knee,\tetc.)\n",
    "• If\tthe\tverb\tends\tin\tie,\tchange\tie\tto\ty\tand\tadd\ting\n",
    "• For\twords\tconsisting\tof\tconsonant-vowel-consonant,\tdouble\tthe\tfinal\t\n",
    "letter\tbefore\tadding\ting\n",
    "• By\tdefault\tjust\tadd\ting\n",
    "Your\ttask\tin\tthis\texercise\tis\tto\tdefine\ta\tfunction\tmake_ing_form()\twhich\tgiven\ta\t\n",
    "verb\tin\tinfinitive\tform\treturns\tits\tpresent\tparticiple\tform.\tTest\tyour\tfunction\t\n",
    "with\twords\tsuch\tas\tlie,\tsee,\tmove\tand\thug.\tHowever,\tyou\tmust\tnot\texpect\tsuch\n",
    "simple\trules\tto\twork\tfor\tall\tcases.\n",
    "This is the same case as above\n",
    "\"\"\"\n",
    "import re\n",
    "def make_ing_form(s):\n",
    "    vowel=['a','e','i','o','u']\n",
    "    if s.endswith('ie'):   #check with ie first becuase if put e front, then the if statement never check out ie\n",
    "        s=s.rstrip('ie')  #remove ie\n",
    "        ing=s+'y'+'ing'  #add y and ing in the back\n",
    "    elif s.endswith('e'):  #check e\n",
    "        s=s[:-1]   #remove last one\n",
    "        ing=s+'ing'  #add ing\n",
    "    elif s[-2] in vowel:  #made a list above, chcek the last two if equals to a vowel\n",
    "        ing=s+s[-1]+'ing' #if yes then add the consnant then ing\n",
    "    \n",
    "    print(ing)\n",
    "    "
   ]
  },
  {
   "cell_type": "code",
   "execution_count": 188,
   "metadata": {
    "collapsed": false
   },
   "outputs": [
    {
     "name": "stdout",
     "output_type": "stream",
     "text": [
      "lying\n",
      "seing\n",
      "moving\n",
      "hugging\n"
     ]
    }
   ],
   "source": [
    "make_ing_form('lie')\n",
    "make_ing_form('see')\n",
    "make_ing_form('move')\n",
    "make_ing_form('hug')"
   ]
  },
  {
   "cell_type": "code",
   "execution_count": null,
   "metadata": {
    "collapsed": true
   },
   "outputs": [],
   "source": []
  }
 ],
 "metadata": {
  "kernelspec": {
   "display_name": "Python 3",
   "language": "python",
   "name": "python3"
  },
  "language_info": {
   "codemirror_mode": {
    "name": "ipython",
    "version": 3
   },
   "file_extension": ".py",
   "mimetype": "text/x-python",
   "name": "python",
   "nbconvert_exporter": "python",
   "pygments_lexer": "ipython3",
   "version": "3.4.3"
  }
 },
 "nbformat": 4,
 "nbformat_minor": 0
}
