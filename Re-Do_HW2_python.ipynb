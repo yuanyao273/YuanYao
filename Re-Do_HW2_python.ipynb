{
 "cells": [
  {
   "cell_type": "markdown",
   "metadata": {},
   "source": [
    "# Function fib"
   ]
  },
  {
   "cell_type": "code",
   "execution_count": 12,
   "metadata": {
    "collapsed": false
   },
   "outputs": [
    {
     "name": "stdout",
     "output_type": "stream",
     "text": [
      "0\n",
      "1\n",
      "1\n",
      "1\n",
      "2\n",
      "3\n",
      "5\n",
      "8\n",
      "13\n"
     ]
    }
   ],
   "source": [
    "\"\"\"\n",
    "function‘fib’ thattakes\ta\tnumber,\t‘n’, as\ta\tparameter and\tprints\tall\tthe\t\n",
    "Fibonacci\tnumbers\tless\tthan\t ‘n’ to\tthe\tscreen.\n",
    "The parameter is random nunber n and all the fib number which is less than n will show on the screen\n",
    "\n",
    "function fibnum takes in the parameters nth and will calculate the n th fibnumber by using recursion\n",
    "The function will returns the nth fib number\n",
    "\"\"\"\n",
    "\n",
    "\n",
    "\n",
    "def fibnum (nth):      #here I define a function fibnum to use it to return the fib numbers \n",
    "    if nth<=3:          #This function I uesed the method of recursion\n",
    "        return 1    #The function will break here if the nth is less than 3 \n",
    "    else:\n",
    "        return fibnum(nth-1) + fibnum(nth-2)  #The recursion will continue to get all the sum before this number \n",
    "#The ideal of recursion is the nth fabicino number is Fn=Fn-1+Fn-2 while Fn-1=Fn-2+Fn-3 \n",
    "#Basically this is the ideal that how we get the recursion of nth fib numbers    \n",
    "def fib (n):    #Then we define the function fib\n",
    "    order=1     #give the first fibonacci number\n",
    "    print(\"0\")\n",
    "    if fibnum(order)>=n:   #give the condition that the parameter is smaller than the first fibonacci number\n",
    "        print(\"The number you enter is less than the minimum\")\n",
    "    else:\n",
    "        while (fibnum(order)<n): #use the loop to show all the numbers that is smaller than parameter n\n",
    "            print (fibnum(order))\n",
    "            order=order+1\n",
    "            \n",
    "        \n",
    "\n",
    "        \n",
    "        \n",
    "fib (20)  #try to call all the fibonacci number that is smaller than 14 and the result is \"there\"\n",
    "    \n",
    "    \n",
    "    \n",
    "    \n",
    "\n",
    "\n",
    "\n",
    "        \n"
   ]
  },
  {
   "cell_type": "markdown",
   "metadata": {},
   "source": [
    "# Mymax()"
   ]
  },
  {
   "cell_type": "code",
   "execution_count": 13,
   "metadata": {
    "collapsed": false
   },
   "outputs": [
    {
     "data": {
      "text/plain": [
       "22"
      ]
     },
     "execution_count": 13,
     "metadata": {},
     "output_type": "execute_result"
    }
   ],
   "source": [
    "\"\"\"\n",
    "This function will return the biggest number between two numbers. The parameter will take two numbers as parameter\n",
    "and what it returns is the max between the two numbers\n",
    "\n",
    "\"\"\"\n",
    "\n",
    "def mymax (n1,n2):\n",
    "    #if (type(n1)!=float or type (n1)!=int) and (type (n2)!=float or type (n2)!=int):\n",
    "        #print ('One of the input parameter is not numbers. Siging off!')\n",
    "    #else:\n",
    "        if n1<=n2:             #very simple if and else conditions \n",
    "            return n2\n",
    "        else:\n",
    "            return n1         #I'm trying to defend this function by identifying the type of input parameter\n",
    "                              #but seems fail \n",
    "        \n",
    "mymax(22,11)\n"
   ]
  },
  {
   "cell_type": "markdown",
   "metadata": {
    "collapsed": true
   },
   "source": [
    "# max_of_three()"
   ]
  },
  {
   "cell_type": "code",
   "execution_count": 5,
   "metadata": {
    "collapsed": false
   },
   "outputs": [
    {
     "data": {
      "text/plain": [
       "32"
      ]
     },
     "execution_count": 5,
     "metadata": {},
     "output_type": "execute_result"
    }
   ],
   "source": [
    "\"\"\"\n",
    "The function will find the max numbers among three numbers\n",
    "The function will take three numbers as intake parameters and then will return the max numbers among them\n",
    "This is an more complicated case identify biggest number between three, so the idea is that find the max of first \n",
    "two numbers then find the max between the max of first two and the third one \n",
    "So nested if-else condition are required \n",
    "\"\"\"\n",
    "def max_of_three(n1,n2,n3):\n",
    "    if n1<=n2:               #use nested if and else condition to do this, first compare n1 and n2\n",
    "        if n2<=n3:           #then compare the bigger number between n1 and n2 to n3\n",
    "            return n3       #This if statement is if the n2 is bigger the compare n2 and n3\n",
    "        else:\n",
    "            return n2         #return the one is bigger \n",
    "    else:\n",
    "        if n1<=n3:            #This is the case that n1 is bigger and then compare n1 and n3\n",
    "            return n3\n",
    "        else:\n",
    "            return n1        #return the one is bigger \n",
    "    \n",
    "\n",
    "max_of_three(32,22,18)\n"
   ]
  },
  {
   "cell_type": "markdown",
   "metadata": {
    "collapsed": true
   },
   "source": [
    "# mylen()"
   ]
  },
  {
   "cell_type": "code",
   "execution_count": 1,
   "metadata": {
    "collapsed": false
   },
   "outputs": [
    {
     "data": {
      "text/plain": [
       "3"
      ]
     },
     "execution_count": 1,
     "metadata": {},
     "output_type": "execute_result"
    }
   ],
   "source": [
    "\"\"\"\n",
    "This function will calculate the length of a string. the parameter itself is a string and what the function returns is\n",
    "the length of the string\n",
    "The idea of get the string length is very simple too, one for loop through every charcter of that string\n",
    "to begin with I assigin 0 to i, when the loop actually go through every single one characters in that string,\n",
    "i increase by 1, at the end of the loop, i should be exactly to the length of the loop\n",
    "\"\"\"\n",
    "\n",
    "def mylen(n):     #headstart for defining the function\n",
    "    i=0           #define i equals 0\n",
    "    for num in n:  #when every time loop in the list the i increase by 1\n",
    "        i=i+1\n",
    "    return i       #after the loop then return the i which is the length of the list\n",
    "\n",
    "mylen('yao')"
   ]
  },
  {
   "cell_type": "markdown",
   "metadata": {},
   "source": [
    "# vowel()"
   ]
  },
  {
   "cell_type": "code",
   "execution_count": 18,
   "metadata": {
    "collapsed": false
   },
   "outputs": [
    {
     "data": {
      "text/plain": [
       "True"
      ]
     },
     "execution_count": 18,
     "metadata": {},
     "output_type": "execute_result"
    }
   ],
   "source": [
    "\"\"\"\n",
    "This function will distinguish the input char variable if it is a vowel\n",
    "The function type is boolean and totally 10 cases will be considered\n",
    "including the upper case and the lower case totally 10 characters are vowels\n",
    "This is a function which identify the input char variable whether is in the 10 cases\n",
    "five if statement could identify this \n",
    "\"\"\"\n",
    "\n",
    "\n",
    "def vowel( w ):    #define functions\n",
    "    if w == 'a':             #cases that the input is 'a' then return true\n",
    "        return True\n",
    "    if w== 'o':         #cases that the input is 'o' then return true \n",
    "        return True\n",
    "    if w== \"e\":        #cases that input is 'e' then return true \n",
    "        return True\n",
    "    if w== 'i':          #cases that input is 'i' then return true \n",
    "        return True\n",
    "    if w== 'u':        #cases that input is 'u' then return true\n",
    "        return True \n",
    "    if w== 'A':         #cases that input is upper case\n",
    "        return True \n",
    "    if w== 'O':\n",
    "        return True    #cases that input is upper cases\n",
    "    if w== 'E':\n",
    "        return True \n",
    "    \n",
    "    if w== 'I':\n",
    "        return True \n",
    "    if w== 'U':\n",
    "        return True \n",
    "    else:              #other than vowel return false\n",
    "        return False \n",
    "\n",
    "    \n",
    "    \n",
    "vowel('E')\n",
    "    \n",
    "\n",
    "    \n",
    "    \n"
   ]
  },
  {
   "cell_type": "markdown",
   "metadata": {
    "collapsed": true
   },
   "source": [
    "# translate ()"
   ]
  },
  {
   "cell_type": "code",
   "execution_count": 24,
   "metadata": {
    "collapsed": false
   },
   "outputs": [
    {
     "name": "stdout",
     "output_type": "stream",
     "text": [
      "tothohisos isos fofunon\n"
     ]
    }
   ],
   "source": [
    "\"\"\"\n",
    "This function will intake a string as input parameter then insert o between those non-vowel characters\n",
    "The function will return the reshape string\n",
    "just borrow the function from above, the ideal is that make the string into a list because it is eassy to add 'o' between \n",
    "the characters, then go every single charcter in that string to check if that is vowel and blank space, if both not, then\n",
    "we put one 'o' before the charcter and one after it\n",
    "then we print the message by print the new string\n",
    "\"\"\"\n",
    "\n",
    "\n",
    "def translate(n):  #borrow the vowel from last part\n",
    "    new=list (n) #put it into a new list \n",
    "    newstring=''   #define a new string to store translate string\n",
    "    for w in n:         #loop throught every single character inthat string\n",
    "        if vowel(w)==False and w!=' ' :#check if the character is not a voewl and a space\n",
    "            newstring+=w+'o'+w     #if it is not a vowel and a space then put o between it\n",
    "        else:\n",
    "            newstring+=w       #if it is a vowel or space put the original character there\n",
    "    \n",
    "    return print(newstring)  #return the new string\n",
    "\n",
    "\n",
    "translate('this is fun')\n",
    "            \n",
    "            \n",
    "      \n",
    "            \n",
    "        \n",
    "    \n",
    "    "
   ]
  },
  {
   "cell_type": "markdown",
   "metadata": {},
   "source": [
    "# sum() and multiply()"
   ]
  },
  {
   "cell_type": "code",
   "execution_count": 33,
   "metadata": {
    "collapsed": false
   },
   "outputs": [
    {
     "name": "stdout",
     "output_type": "stream",
     "text": [
      "10\n",
      "24\n"
     ]
    }
   ],
   "source": [
    "\"\"\"\n",
    "The function summation will intake a random int as input parameter will return all the summation of the integer \n",
    "less than n\n",
    "The function multiply will intake a integer as parameter will return all the product which is less than the integer\n",
    "\n",
    "The  ideal of the function is very easy, loop through every element, put a initial value 0 for summation and 1 for mutiplication\n",
    "and loop through every single value in the list and add one to itself or multiply itself\n",
    "\"\"\"\n",
    "\n",
    "def summation(n):\n",
    "    sum=0\n",
    "    for num in n:\n",
    "        sum=sum + num    #This is a very easy loop, give a sum=0 before then every number in that list\n",
    "                           #add them up \n",
    "    return sum\n",
    "\n",
    "def multiply(n):\n",
    "    product=1         #This is the same result as summation\n",
    "    for num in n:\n",
    "        product= product * num    #for every number in that list, multiply them each time \n",
    "    \n",
    "    return product\n",
    "\n",
    "print (summation([1,2,3,4]))\n",
    "print (multiply([1,2,3,4]))       #this is the test of the function\n",
    "    "
   ]
  },
  {
   "cell_type": "markdown",
   "metadata": {},
   "source": [
    "# reverse"
   ]
  },
  {
   "cell_type": "code",
   "execution_count": 45,
   "metadata": {
    "collapsed": false
   },
   "outputs": [
    {
     "data": {
      "text/plain": [
       "'gnitset ma i'"
      ]
     },
     "execution_count": 45,
     "metadata": {},
     "output_type": "execute_result"
    }
   ],
   "source": [
    "\"\"\"\n",
    "The function reverse will take a string as input prammeter and will return a new string which is reverse way\n",
    "The ideal is loop through the string and start put charcters from back into new string\n",
    "\"\"\"\n",
    "\n",
    "def reverse(inputstring):    #define function\n",
    "    \n",
    "    revstring=''       #define a string to return which is the reverse\n",
    "    i=int(len(inputstring))  #first get the length of the string\n",
    "    \n",
    "    for j in range(0,i):    #loop through every single character in the inputstring\n",
    "        revstring=revstring+inputstring[-j-1]   #update the new string add the last one into the first one revstring\n",
    "    \n",
    "    return revstring\n",
    "    \n",
    "\n",
    "reverse('i am testing') #This is the test of the function"
   ]
  },
  {
   "cell_type": "markdown",
   "metadata": {},
   "source": [
    "# is_palindrome()\t"
   ]
  },
  {
   "cell_type": "code",
   "execution_count": 49,
   "metadata": {
    "collapsed": false
   },
   "outputs": [
    {
     "data": {
      "text/plain": [
       "True"
      ]
     },
     "execution_count": 49,
     "metadata": {},
     "output_type": "execute_result"
    }
   ],
   "source": [
    "\"\"\"\n",
    "This function will take a string as input parameter and check whether this string is palindrome\n",
    "The function is boolean type will return truth and false\n",
    "The ideal for this function is to loop through the length of the string, check the whether the string is even\n",
    "\"\"\"\n",
    "\n",
    "def is_palindrome(n):   #define function\n",
    "    length=int(len(n))   #find the length of the function\n",
    "    for i in range(0,length-1):  #loop through all the string\n",
    "        if n[i]!=n[length-1-i]:  #to see if the character in front is equal in the back\n",
    "            return False        #once we find that is not equal return false\n",
    "        \n",
    "    return True   #if all equals then this is palindrome return true\n",
    "\n",
    "is_palindrome('radar')"
   ]
  },
  {
   "cell_type": "markdown",
   "metadata": {},
   "source": [
    "# is_a_member"
   ]
  },
  {
   "cell_type": "code",
   "execution_count": 54,
   "metadata": {
    "collapsed": false
   },
   "outputs": [
    {
     "data": {
      "text/plain": [
       "True"
      ]
     },
     "execution_count": 54,
     "metadata": {},
     "output_type": "execute_result"
    }
   ],
   "source": [
    "\"\"\"\n",
    "The function will take a char and a list a input parameter\n",
    "The function will return true if the character is in the list and false if it is not in the list\n",
    "function is boolean type\n",
    "The ideal is that loop through everysingle element in the list, once find match then return true\n",
    "if cant find any matches then return false, that's why the false return should be out of the loop\n",
    "\"\"\"\n",
    "\n",
    "def is_a_member(x,listmember):  #This is another very eassy loop\n",
    "    for n in listmember:    #just loop throgh every single element in the list\n",
    "        if x==n:\n",
    "            return True   #if can find any matches then return true\n",
    "    \n",
    "    return False  # if cant find any then return false\n",
    "\n",
    "is_a_member('h','helloworld')  #this is the test of the function "
   ]
  },
  {
   "cell_type": "markdown",
   "metadata": {},
   "source": [
    "# overlapping()\t"
   ]
  },
  {
   "cell_type": "code",
   "execution_count": 25,
   "metadata": {
    "collapsed": false
   },
   "outputs": [
    {
     "data": {
      "text/plain": [
       "True"
      ]
     },
     "execution_count": 25,
     "metadata": {},
     "output_type": "execute_result"
    }
   ],
   "source": [
    "\"\"\"\n",
    "The function will take two list numbers as input parameters and if there is at least one element equal\n",
    "return true else return false. Boolean type\n",
    "the ideal of this is same as abovee but have to use the nested loop, check each single element of first list, and use \n",
    "the one in the first list to match up the secon list(loopthrough), once found much return true immediately, if not\n",
    "return false, the false return should be out of the nested loop\n",
    "\"\"\"\n",
    "\n",
    "def overlapping(n1,n2):\n",
    "    for i in n1:            #another very easy loop \n",
    "        for j in n2:           #I used two nested loop and the first loop will take every single value i in list n1\n",
    "                          #second loop will loop through every single element in n2\n",
    "            if i==j:   #compare i in n1 to j in n2\n",
    "                return True    #if any matches found then return true\n",
    "        \n",
    "        \n",
    "    return False  #if cant find any return false \n",
    "\n",
    "overlapping([3,3,4,5,6,33],[5,123,545,32])  #test "
   ]
  },
  {
   "cell_type": "markdown",
   "metadata": {},
   "source": [
    "# generate_n_characters()"
   ]
  },
  {
   "cell_type": "code",
   "execution_count": 1,
   "metadata": {
    "collapsed": false
   },
   "outputs": [
    {
     "data": {
      "text/plain": [
       "'yyyyyyyyyyyy'"
      ]
     },
     "execution_count": 1,
     "metadata": {},
     "output_type": "execute_result"
    }
   ],
   "source": [
    "\"\"\"\n",
    "This function will take a integer and a character as input parameter\n",
    "The function will reurns a string which the input character being repeated by integer times\n",
    "In this part, i Used defense part because once the input is not as described in the homework, the system will return false\n",
    "The ideal is same, loop through the number you want to dublicate and in that loop, add the characters into the new string\n",
    "\n",
    "\"\"\"\n",
    "\n",
    "def generate_n_characters(x,c):\n",
    "    if type(x)!=int:\n",
    "        print ('The number you want to dublicate is not valid, sigining off') #This is the defend part\n",
    "        return False   #incase the number dubllicate is not integer\n",
    "    if int(len(c))!=1:\n",
    "        print('The character is not single, siging off')  #incase the character is not single \n",
    "        return False\n",
    "    \n",
    "    \n",
    "    newstring=''  #get a new string\n",
    "    for k in range(0,x):\n",
    "        newstring=newstring+c  #number of times loop in the number times want to dublicate then add the same character\n",
    "        \n",
    "    return newstring  #return new string\n",
    "\n",
    "    \n",
    "generate_n_characters(12,'y')"
   ]
  },
  {
   "cell_type": "code",
   "execution_count": null,
   "metadata": {
    "collapsed": true
   },
   "outputs": [],
   "source": []
  }
 ],
 "metadata": {
  "kernelspec": {
   "display_name": "Python 3",
   "language": "python",
   "name": "python3"
  },
  "language_info": {
   "codemirror_mode": {
    "name": "ipython",
    "version": 3
   },
   "file_extension": ".py",
   "mimetype": "text/x-python",
   "name": "python",
   "nbconvert_exporter": "python",
   "pygments_lexer": "ipython3",
   "version": "3.4.3"
  }
 },
 "nbformat": 4,
 "nbformat_minor": 0
}
